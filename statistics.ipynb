{
  "nbformat": 4,
  "nbformat_minor": 0,
  "metadata": {
    "colab": {
      "provenance": [],
      "include_colab_link": true
    },
    "kernelspec": {
      "name": "python3",
      "display_name": "Python 3"
    },
    "language_info": {
      "name": "python"
    }
  },
  "cells": [
    {
      "cell_type": "markdown",
      "metadata": {
        "id": "view-in-github",
        "colab_type": "text"
      },
      "source": [
        "<a href=\"https://colab.research.google.com/github/madhu9345/data-visualization-and-exploration/blob/main/statistics.ipynb\" target=\"_parent\"><img src=\"https://colab.research.google.com/assets/colab-badge.svg\" alt=\"Open In Colab\"/></a>"
      ]
    },
    {
      "cell_type": "code",
      "execution_count": null,
      "metadata": {
        "id": "lO-DkQsVveIs",
        "colab": {
          "base_uri": "https://localhost:8080/",
          "height": 73
        },
        "outputId": "275e193a-bb49-421a-de8b-181fa06e80ef"
      },
      "outputs": [
        {
          "output_type": "display_data",
          "data": {
            "text/plain": [
              "<IPython.core.display.HTML object>"
            ],
            "text/html": [
              "\n",
              "     <input type=\"file\" id=\"files-3ca06016-9a5c-4b32-8b1b-1f135fe2eab4\" name=\"files[]\" multiple disabled\n",
              "        style=\"border:none\" />\n",
              "     <output id=\"result-3ca06016-9a5c-4b32-8b1b-1f135fe2eab4\">\n",
              "      Upload widget is only available when the cell has been executed in the\n",
              "      current browser session. Please rerun this cell to enable.\n",
              "      </output>\n",
              "      <script>// Copyright 2017 Google LLC\n",
              "//\n",
              "// Licensed under the Apache License, Version 2.0 (the \"License\");\n",
              "// you may not use this file except in compliance with the License.\n",
              "// You may obtain a copy of the License at\n",
              "//\n",
              "//      http://www.apache.org/licenses/LICENSE-2.0\n",
              "//\n",
              "// Unless required by applicable law or agreed to in writing, software\n",
              "// distributed under the License is distributed on an \"AS IS\" BASIS,\n",
              "// WITHOUT WARRANTIES OR CONDITIONS OF ANY KIND, either express or implied.\n",
              "// See the License for the specific language governing permissions and\n",
              "// limitations under the License.\n",
              "\n",
              "/**\n",
              " * @fileoverview Helpers for google.colab Python module.\n",
              " */\n",
              "(function(scope) {\n",
              "function span(text, styleAttributes = {}) {\n",
              "  const element = document.createElement('span');\n",
              "  element.textContent = text;\n",
              "  for (const key of Object.keys(styleAttributes)) {\n",
              "    element.style[key] = styleAttributes[key];\n",
              "  }\n",
              "  return element;\n",
              "}\n",
              "\n",
              "// Max number of bytes which will be uploaded at a time.\n",
              "const MAX_PAYLOAD_SIZE = 100 * 1024;\n",
              "\n",
              "function _uploadFiles(inputId, outputId) {\n",
              "  const steps = uploadFilesStep(inputId, outputId);\n",
              "  const outputElement = document.getElementById(outputId);\n",
              "  // Cache steps on the outputElement to make it available for the next call\n",
              "  // to uploadFilesContinue from Python.\n",
              "  outputElement.steps = steps;\n",
              "\n",
              "  return _uploadFilesContinue(outputId);\n",
              "}\n",
              "\n",
              "// This is roughly an async generator (not supported in the browser yet),\n",
              "// where there are multiple asynchronous steps and the Python side is going\n",
              "// to poll for completion of each step.\n",
              "// This uses a Promise to block the python side on completion of each step,\n",
              "// then passes the result of the previous step as the input to the next step.\n",
              "function _uploadFilesContinue(outputId) {\n",
              "  const outputElement = document.getElementById(outputId);\n",
              "  const steps = outputElement.steps;\n",
              "\n",
              "  const next = steps.next(outputElement.lastPromiseValue);\n",
              "  return Promise.resolve(next.value.promise).then((value) => {\n",
              "    // Cache the last promise value to make it available to the next\n",
              "    // step of the generator.\n",
              "    outputElement.lastPromiseValue = value;\n",
              "    return next.value.response;\n",
              "  });\n",
              "}\n",
              "\n",
              "/**\n",
              " * Generator function which is called between each async step of the upload\n",
              " * process.\n",
              " * @param {string} inputId Element ID of the input file picker element.\n",
              " * @param {string} outputId Element ID of the output display.\n",
              " * @return {!Iterable<!Object>} Iterable of next steps.\n",
              " */\n",
              "function* uploadFilesStep(inputId, outputId) {\n",
              "  const inputElement = document.getElementById(inputId);\n",
              "  inputElement.disabled = false;\n",
              "\n",
              "  const outputElement = document.getElementById(outputId);\n",
              "  outputElement.innerHTML = '';\n",
              "\n",
              "  const pickedPromise = new Promise((resolve) => {\n",
              "    inputElement.addEventListener('change', (e) => {\n",
              "      resolve(e.target.files);\n",
              "    });\n",
              "  });\n",
              "\n",
              "  const cancel = document.createElement('button');\n",
              "  inputElement.parentElement.appendChild(cancel);\n",
              "  cancel.textContent = 'Cancel upload';\n",
              "  const cancelPromise = new Promise((resolve) => {\n",
              "    cancel.onclick = () => {\n",
              "      resolve(null);\n",
              "    };\n",
              "  });\n",
              "\n",
              "  // Wait for the user to pick the files.\n",
              "  const files = yield {\n",
              "    promise: Promise.race([pickedPromise, cancelPromise]),\n",
              "    response: {\n",
              "      action: 'starting',\n",
              "    }\n",
              "  };\n",
              "\n",
              "  cancel.remove();\n",
              "\n",
              "  // Disable the input element since further picks are not allowed.\n",
              "  inputElement.disabled = true;\n",
              "\n",
              "  if (!files) {\n",
              "    return {\n",
              "      response: {\n",
              "        action: 'complete',\n",
              "      }\n",
              "    };\n",
              "  }\n",
              "\n",
              "  for (const file of files) {\n",
              "    const li = document.createElement('li');\n",
              "    li.append(span(file.name, {fontWeight: 'bold'}));\n",
              "    li.append(span(\n",
              "        `(${file.type || 'n/a'}) - ${file.size} bytes, ` +\n",
              "        `last modified: ${\n",
              "            file.lastModifiedDate ? file.lastModifiedDate.toLocaleDateString() :\n",
              "                                    'n/a'} - `));\n",
              "    const percent = span('0% done');\n",
              "    li.appendChild(percent);\n",
              "\n",
              "    outputElement.appendChild(li);\n",
              "\n",
              "    const fileDataPromise = new Promise((resolve) => {\n",
              "      const reader = new FileReader();\n",
              "      reader.onload = (e) => {\n",
              "        resolve(e.target.result);\n",
              "      };\n",
              "      reader.readAsArrayBuffer(file);\n",
              "    });\n",
              "    // Wait for the data to be ready.\n",
              "    let fileData = yield {\n",
              "      promise: fileDataPromise,\n",
              "      response: {\n",
              "        action: 'continue',\n",
              "      }\n",
              "    };\n",
              "\n",
              "    // Use a chunked sending to avoid message size limits. See b/62115660.\n",
              "    let position = 0;\n",
              "    do {\n",
              "      const length = Math.min(fileData.byteLength - position, MAX_PAYLOAD_SIZE);\n",
              "      const chunk = new Uint8Array(fileData, position, length);\n",
              "      position += length;\n",
              "\n",
              "      const base64 = btoa(String.fromCharCode.apply(null, chunk));\n",
              "      yield {\n",
              "        response: {\n",
              "          action: 'append',\n",
              "          file: file.name,\n",
              "          data: base64,\n",
              "        },\n",
              "      };\n",
              "\n",
              "      let percentDone = fileData.byteLength === 0 ?\n",
              "          100 :\n",
              "          Math.round((position / fileData.byteLength) * 100);\n",
              "      percent.textContent = `${percentDone}% done`;\n",
              "\n",
              "    } while (position < fileData.byteLength);\n",
              "  }\n",
              "\n",
              "  // All done.\n",
              "  yield {\n",
              "    response: {\n",
              "      action: 'complete',\n",
              "    }\n",
              "  };\n",
              "}\n",
              "\n",
              "scope.google = scope.google || {};\n",
              "scope.google.colab = scope.google.colab || {};\n",
              "scope.google.colab._files = {\n",
              "  _uploadFiles,\n",
              "  _uploadFilesContinue,\n",
              "};\n",
              "})(self);\n",
              "</script> "
            ]
          },
          "metadata": {}
        },
        {
          "output_type": "stream",
          "name": "stdout",
          "text": [
            "Saving iris_dataset.csv to iris_dataset (1).csv\n"
          ]
        }
      ],
      "source": [
        "from google.colab import files\n",
        "upload = files.upload()"
      ]
    },
    {
      "cell_type": "code",
      "source": [
        "import pandas as pd\n",
        "data = pd.read_csv(\"//content/iris_dataset.csv\", encoding='latin1')\n",
        "data"
      ],
      "metadata": {
        "id": "NJPvVb1Hw00J",
        "colab": {
          "base_uri": "https://localhost:8080/",
          "height": 424
        },
        "outputId": "84b947f3-44b0-472c-d9b0-9520aecbde10"
      },
      "execution_count": null,
      "outputs": [
        {
          "output_type": "execute_result",
          "data": {
            "text/plain": [
              "     sepal length (cm)  sepal width (cm)  petal length (cm)  petal width (cm)  \\\n",
              "0                  5.1               3.5                1.4               0.2   \n",
              "1                  4.9               3.0                1.4               0.2   \n",
              "2                  4.7               3.2                1.3               0.2   \n",
              "3                  4.6               3.1                1.5               0.2   \n",
              "4                  5.0               3.6                1.4               0.2   \n",
              "..                 ...               ...                ...               ...   \n",
              "145                6.7               3.0                5.2               2.3   \n",
              "146                6.3               2.5                5.0               1.9   \n",
              "147                6.5               3.0                5.2               2.0   \n",
              "148                6.2               3.4                5.4               2.3   \n",
              "149                5.9               3.0                5.1               1.8   \n",
              "\n",
              "             target  \n",
              "0       Iris-setosa  \n",
              "1       Iris-setosa  \n",
              "2       Iris-setosa  \n",
              "3       Iris-setosa  \n",
              "4       Iris-setosa  \n",
              "..              ...  \n",
              "145  Iris-virginica  \n",
              "146  Iris-virginica  \n",
              "147  Iris-virginica  \n",
              "148  Iris-virginica  \n",
              "149  Iris-virginica  \n",
              "\n",
              "[150 rows x 5 columns]"
            ],
            "text/html": [
              "\n",
              "  <div id=\"df-64179728-c714-4fbd-ba15-26f22ea17167\" class=\"colab-df-container\">\n",
              "    <div>\n",
              "<style scoped>\n",
              "    .dataframe tbody tr th:only-of-type {\n",
              "        vertical-align: middle;\n",
              "    }\n",
              "\n",
              "    .dataframe tbody tr th {\n",
              "        vertical-align: top;\n",
              "    }\n",
              "\n",
              "    .dataframe thead th {\n",
              "        text-align: right;\n",
              "    }\n",
              "</style>\n",
              "<table border=\"1\" class=\"dataframe\">\n",
              "  <thead>\n",
              "    <tr style=\"text-align: right;\">\n",
              "      <th></th>\n",
              "      <th>sepal length (cm)</th>\n",
              "      <th>sepal width (cm)</th>\n",
              "      <th>petal length (cm)</th>\n",
              "      <th>petal width (cm)</th>\n",
              "      <th>target</th>\n",
              "    </tr>\n",
              "  </thead>\n",
              "  <tbody>\n",
              "    <tr>\n",
              "      <th>0</th>\n",
              "      <td>5.1</td>\n",
              "      <td>3.5</td>\n",
              "      <td>1.4</td>\n",
              "      <td>0.2</td>\n",
              "      <td>Iris-setosa</td>\n",
              "    </tr>\n",
              "    <tr>\n",
              "      <th>1</th>\n",
              "      <td>4.9</td>\n",
              "      <td>3.0</td>\n",
              "      <td>1.4</td>\n",
              "      <td>0.2</td>\n",
              "      <td>Iris-setosa</td>\n",
              "    </tr>\n",
              "    <tr>\n",
              "      <th>2</th>\n",
              "      <td>4.7</td>\n",
              "      <td>3.2</td>\n",
              "      <td>1.3</td>\n",
              "      <td>0.2</td>\n",
              "      <td>Iris-setosa</td>\n",
              "    </tr>\n",
              "    <tr>\n",
              "      <th>3</th>\n",
              "      <td>4.6</td>\n",
              "      <td>3.1</td>\n",
              "      <td>1.5</td>\n",
              "      <td>0.2</td>\n",
              "      <td>Iris-setosa</td>\n",
              "    </tr>\n",
              "    <tr>\n",
              "      <th>4</th>\n",
              "      <td>5.0</td>\n",
              "      <td>3.6</td>\n",
              "      <td>1.4</td>\n",
              "      <td>0.2</td>\n",
              "      <td>Iris-setosa</td>\n",
              "    </tr>\n",
              "    <tr>\n",
              "      <th>...</th>\n",
              "      <td>...</td>\n",
              "      <td>...</td>\n",
              "      <td>...</td>\n",
              "      <td>...</td>\n",
              "      <td>...</td>\n",
              "    </tr>\n",
              "    <tr>\n",
              "      <th>145</th>\n",
              "      <td>6.7</td>\n",
              "      <td>3.0</td>\n",
              "      <td>5.2</td>\n",
              "      <td>2.3</td>\n",
              "      <td>Iris-virginica</td>\n",
              "    </tr>\n",
              "    <tr>\n",
              "      <th>146</th>\n",
              "      <td>6.3</td>\n",
              "      <td>2.5</td>\n",
              "      <td>5.0</td>\n",
              "      <td>1.9</td>\n",
              "      <td>Iris-virginica</td>\n",
              "    </tr>\n",
              "    <tr>\n",
              "      <th>147</th>\n",
              "      <td>6.5</td>\n",
              "      <td>3.0</td>\n",
              "      <td>5.2</td>\n",
              "      <td>2.0</td>\n",
              "      <td>Iris-virginica</td>\n",
              "    </tr>\n",
              "    <tr>\n",
              "      <th>148</th>\n",
              "      <td>6.2</td>\n",
              "      <td>3.4</td>\n",
              "      <td>5.4</td>\n",
              "      <td>2.3</td>\n",
              "      <td>Iris-virginica</td>\n",
              "    </tr>\n",
              "    <tr>\n",
              "      <th>149</th>\n",
              "      <td>5.9</td>\n",
              "      <td>3.0</td>\n",
              "      <td>5.1</td>\n",
              "      <td>1.8</td>\n",
              "      <td>Iris-virginica</td>\n",
              "    </tr>\n",
              "  </tbody>\n",
              "</table>\n",
              "<p>150 rows × 5 columns</p>\n",
              "</div>\n",
              "    <div class=\"colab-df-buttons\">\n",
              "\n",
              "  <div class=\"colab-df-container\">\n",
              "    <button class=\"colab-df-convert\" onclick=\"convertToInteractive('df-64179728-c714-4fbd-ba15-26f22ea17167')\"\n",
              "            title=\"Convert this dataframe to an interactive table.\"\n",
              "            style=\"display:none;\">\n",
              "\n",
              "  <svg xmlns=\"http://www.w3.org/2000/svg\" height=\"24px\" viewBox=\"0 -960 960 960\">\n",
              "    <path d=\"M120-120v-720h720v720H120Zm60-500h600v-160H180v160Zm220 220h160v-160H400v160Zm0 220h160v-160H400v160ZM180-400h160v-160H180v160Zm440 0h160v-160H620v160ZM180-180h160v-160H180v160Zm440 0h160v-160H620v160Z\"/>\n",
              "  </svg>\n",
              "    </button>\n",
              "\n",
              "  <style>\n",
              "    .colab-df-container {\n",
              "      display:flex;\n",
              "      gap: 12px;\n",
              "    }\n",
              "\n",
              "    .colab-df-convert {\n",
              "      background-color: #E8F0FE;\n",
              "      border: none;\n",
              "      border-radius: 50%;\n",
              "      cursor: pointer;\n",
              "      display: none;\n",
              "      fill: #1967D2;\n",
              "      height: 32px;\n",
              "      padding: 0 0 0 0;\n",
              "      width: 32px;\n",
              "    }\n",
              "\n",
              "    .colab-df-convert:hover {\n",
              "      background-color: #E2EBFA;\n",
              "      box-shadow: 0px 1px 2px rgba(60, 64, 67, 0.3), 0px 1px 3px 1px rgba(60, 64, 67, 0.15);\n",
              "      fill: #174EA6;\n",
              "    }\n",
              "\n",
              "    .colab-df-buttons div {\n",
              "      margin-bottom: 4px;\n",
              "    }\n",
              "\n",
              "    [theme=dark] .colab-df-convert {\n",
              "      background-color: #3B4455;\n",
              "      fill: #D2E3FC;\n",
              "    }\n",
              "\n",
              "    [theme=dark] .colab-df-convert:hover {\n",
              "      background-color: #434B5C;\n",
              "      box-shadow: 0px 1px 3px 1px rgba(0, 0, 0, 0.15);\n",
              "      filter: drop-shadow(0px 1px 2px rgba(0, 0, 0, 0.3));\n",
              "      fill: #FFFFFF;\n",
              "    }\n",
              "  </style>\n",
              "\n",
              "    <script>\n",
              "      const buttonEl =\n",
              "        document.querySelector('#df-64179728-c714-4fbd-ba15-26f22ea17167 button.colab-df-convert');\n",
              "      buttonEl.style.display =\n",
              "        google.colab.kernel.accessAllowed ? 'block' : 'none';\n",
              "\n",
              "      async function convertToInteractive(key) {\n",
              "        const element = document.querySelector('#df-64179728-c714-4fbd-ba15-26f22ea17167');\n",
              "        const dataTable =\n",
              "          await google.colab.kernel.invokeFunction('convertToInteractive',\n",
              "                                                    [key], {});\n",
              "        if (!dataTable) return;\n",
              "\n",
              "        const docLinkHtml = 'Like what you see? Visit the ' +\n",
              "          '<a target=\"_blank\" href=https://colab.research.google.com/notebooks/data_table.ipynb>data table notebook</a>'\n",
              "          + ' to learn more about interactive tables.';\n",
              "        element.innerHTML = '';\n",
              "        dataTable['output_type'] = 'display_data';\n",
              "        await google.colab.output.renderOutput(dataTable, element);\n",
              "        const docLink = document.createElement('div');\n",
              "        docLink.innerHTML = docLinkHtml;\n",
              "        element.appendChild(docLink);\n",
              "      }\n",
              "    </script>\n",
              "  </div>\n",
              "\n",
              "\n",
              "<div id=\"df-08f9f787-5344-4fb4-821a-3e3f4b96f6c6\">\n",
              "  <button class=\"colab-df-quickchart\" onclick=\"quickchart('df-08f9f787-5344-4fb4-821a-3e3f4b96f6c6')\"\n",
              "            title=\"Suggest charts\"\n",
              "            style=\"display:none;\">\n",
              "\n",
              "<svg xmlns=\"http://www.w3.org/2000/svg\" height=\"24px\"viewBox=\"0 0 24 24\"\n",
              "     width=\"24px\">\n",
              "    <g>\n",
              "        <path d=\"M19 3H5c-1.1 0-2 .9-2 2v14c0 1.1.9 2 2 2h14c1.1 0 2-.9 2-2V5c0-1.1-.9-2-2-2zM9 17H7v-7h2v7zm4 0h-2V7h2v10zm4 0h-2v-4h2v4z\"/>\n",
              "    </g>\n",
              "</svg>\n",
              "  </button>\n",
              "\n",
              "<style>\n",
              "  .colab-df-quickchart {\n",
              "      --bg-color: #E8F0FE;\n",
              "      --fill-color: #1967D2;\n",
              "      --hover-bg-color: #E2EBFA;\n",
              "      --hover-fill-color: #174EA6;\n",
              "      --disabled-fill-color: #AAA;\n",
              "      --disabled-bg-color: #DDD;\n",
              "  }\n",
              "\n",
              "  [theme=dark] .colab-df-quickchart {\n",
              "      --bg-color: #3B4455;\n",
              "      --fill-color: #D2E3FC;\n",
              "      --hover-bg-color: #434B5C;\n",
              "      --hover-fill-color: #FFFFFF;\n",
              "      --disabled-bg-color: #3B4455;\n",
              "      --disabled-fill-color: #666;\n",
              "  }\n",
              "\n",
              "  .colab-df-quickchart {\n",
              "    background-color: var(--bg-color);\n",
              "    border: none;\n",
              "    border-radius: 50%;\n",
              "    cursor: pointer;\n",
              "    display: none;\n",
              "    fill: var(--fill-color);\n",
              "    height: 32px;\n",
              "    padding: 0;\n",
              "    width: 32px;\n",
              "  }\n",
              "\n",
              "  .colab-df-quickchart:hover {\n",
              "    background-color: var(--hover-bg-color);\n",
              "    box-shadow: 0 1px 2px rgba(60, 64, 67, 0.3), 0 1px 3px 1px rgba(60, 64, 67, 0.15);\n",
              "    fill: var(--button-hover-fill-color);\n",
              "  }\n",
              "\n",
              "  .colab-df-quickchart-complete:disabled,\n",
              "  .colab-df-quickchart-complete:disabled:hover {\n",
              "    background-color: var(--disabled-bg-color);\n",
              "    fill: var(--disabled-fill-color);\n",
              "    box-shadow: none;\n",
              "  }\n",
              "\n",
              "  .colab-df-spinner {\n",
              "    border: 2px solid var(--fill-color);\n",
              "    border-color: transparent;\n",
              "    border-bottom-color: var(--fill-color);\n",
              "    animation:\n",
              "      spin 1s steps(1) infinite;\n",
              "  }\n",
              "\n",
              "  @keyframes spin {\n",
              "    0% {\n",
              "      border-color: transparent;\n",
              "      border-bottom-color: var(--fill-color);\n",
              "      border-left-color: var(--fill-color);\n",
              "    }\n",
              "    20% {\n",
              "      border-color: transparent;\n",
              "      border-left-color: var(--fill-color);\n",
              "      border-top-color: var(--fill-color);\n",
              "    }\n",
              "    30% {\n",
              "      border-color: transparent;\n",
              "      border-left-color: var(--fill-color);\n",
              "      border-top-color: var(--fill-color);\n",
              "      border-right-color: var(--fill-color);\n",
              "    }\n",
              "    40% {\n",
              "      border-color: transparent;\n",
              "      border-right-color: var(--fill-color);\n",
              "      border-top-color: var(--fill-color);\n",
              "    }\n",
              "    60% {\n",
              "      border-color: transparent;\n",
              "      border-right-color: var(--fill-color);\n",
              "    }\n",
              "    80% {\n",
              "      border-color: transparent;\n",
              "      border-right-color: var(--fill-color);\n",
              "      border-bottom-color: var(--fill-color);\n",
              "    }\n",
              "    90% {\n",
              "      border-color: transparent;\n",
              "      border-bottom-color: var(--fill-color);\n",
              "    }\n",
              "  }\n",
              "</style>\n",
              "\n",
              "  <script>\n",
              "    async function quickchart(key) {\n",
              "      const quickchartButtonEl =\n",
              "        document.querySelector('#' + key + ' button');\n",
              "      quickchartButtonEl.disabled = true;  // To prevent multiple clicks.\n",
              "      quickchartButtonEl.classList.add('colab-df-spinner');\n",
              "      try {\n",
              "        const charts = await google.colab.kernel.invokeFunction(\n",
              "            'suggestCharts', [key], {});\n",
              "      } catch (error) {\n",
              "        console.error('Error during call to suggestCharts:', error);\n",
              "      }\n",
              "      quickchartButtonEl.classList.remove('colab-df-spinner');\n",
              "      quickchartButtonEl.classList.add('colab-df-quickchart-complete');\n",
              "    }\n",
              "    (() => {\n",
              "      let quickchartButtonEl =\n",
              "        document.querySelector('#df-08f9f787-5344-4fb4-821a-3e3f4b96f6c6 button');\n",
              "      quickchartButtonEl.style.display =\n",
              "        google.colab.kernel.accessAllowed ? 'block' : 'none';\n",
              "    })();\n",
              "  </script>\n",
              "</div>\n",
              "\n",
              "  <div id=\"id_2d9b9522-a755-4069-a3be-f04becc4adfa\">\n",
              "    <style>\n",
              "      .colab-df-generate {\n",
              "        background-color: #E8F0FE;\n",
              "        border: none;\n",
              "        border-radius: 50%;\n",
              "        cursor: pointer;\n",
              "        display: none;\n",
              "        fill: #1967D2;\n",
              "        height: 32px;\n",
              "        padding: 0 0 0 0;\n",
              "        width: 32px;\n",
              "      }\n",
              "\n",
              "      .colab-df-generate:hover {\n",
              "        background-color: #E2EBFA;\n",
              "        box-shadow: 0px 1px 2px rgba(60, 64, 67, 0.3), 0px 1px 3px 1px rgba(60, 64, 67, 0.15);\n",
              "        fill: #174EA6;\n",
              "      }\n",
              "\n",
              "      [theme=dark] .colab-df-generate {\n",
              "        background-color: #3B4455;\n",
              "        fill: #D2E3FC;\n",
              "      }\n",
              "\n",
              "      [theme=dark] .colab-df-generate:hover {\n",
              "        background-color: #434B5C;\n",
              "        box-shadow: 0px 1px 3px 1px rgba(0, 0, 0, 0.15);\n",
              "        filter: drop-shadow(0px 1px 2px rgba(0, 0, 0, 0.3));\n",
              "        fill: #FFFFFF;\n",
              "      }\n",
              "    </style>\n",
              "    <button class=\"colab-df-generate\" onclick=\"generateWithVariable('data')\"\n",
              "            title=\"Generate code using this dataframe.\"\n",
              "            style=\"display:none;\">\n",
              "\n",
              "  <svg xmlns=\"http://www.w3.org/2000/svg\" height=\"24px\"viewBox=\"0 0 24 24\"\n",
              "       width=\"24px\">\n",
              "    <path d=\"M7,19H8.4L18.45,9,17,7.55,7,17.6ZM5,21V16.75L18.45,3.32a2,2,0,0,1,2.83,0l1.4,1.43a1.91,1.91,0,0,1,.58,1.4,1.91,1.91,0,0,1-.58,1.4L9.25,21ZM18.45,9,17,7.55Zm-12,3A5.31,5.31,0,0,0,4.9,8.1,5.31,5.31,0,0,0,1,6.5,5.31,5.31,0,0,0,4.9,4.9,5.31,5.31,0,0,0,6.5,1,5.31,5.31,0,0,0,8.1,4.9,5.31,5.31,0,0,0,12,6.5,5.46,5.46,0,0,0,6.5,12Z\"/>\n",
              "  </svg>\n",
              "    </button>\n",
              "    <script>\n",
              "      (() => {\n",
              "      const buttonEl =\n",
              "        document.querySelector('#id_2d9b9522-a755-4069-a3be-f04becc4adfa button.colab-df-generate');\n",
              "      buttonEl.style.display =\n",
              "        google.colab.kernel.accessAllowed ? 'block' : 'none';\n",
              "\n",
              "      buttonEl.onclick = () => {\n",
              "        google.colab.notebook.generateWithVariable('data');\n",
              "      }\n",
              "      })();\n",
              "    </script>\n",
              "  </div>\n",
              "\n",
              "    </div>\n",
              "  </div>\n"
            ],
            "application/vnd.google.colaboratory.intrinsic+json": {
              "type": "dataframe",
              "variable_name": "data",
              "summary": "{\n  \"name\": \"data\",\n  \"rows\": 150,\n  \"fields\": [\n    {\n      \"column\": \"sepal length (cm)\",\n      \"properties\": {\n        \"dtype\": \"number\",\n        \"std\": 0.8280661279778629,\n        \"min\": 4.3,\n        \"max\": 7.9,\n        \"num_unique_values\": 35,\n        \"samples\": [\n          6.2,\n          4.5,\n          5.6\n        ],\n        \"semantic_type\": \"\",\n        \"description\": \"\"\n      }\n    },\n    {\n      \"column\": \"sepal width (cm)\",\n      \"properties\": {\n        \"dtype\": \"number\",\n        \"std\": 0.4335943113621737,\n        \"min\": 2.0,\n        \"max\": 4.4,\n        \"num_unique_values\": 23,\n        \"samples\": [\n          2.3,\n          4.0,\n          3.5\n        ],\n        \"semantic_type\": \"\",\n        \"description\": \"\"\n      }\n    },\n    {\n      \"column\": \"petal length (cm)\",\n      \"properties\": {\n        \"dtype\": \"number\",\n        \"std\": 1.7644204199522617,\n        \"min\": 1.0,\n        \"max\": 6.9,\n        \"num_unique_values\": 43,\n        \"samples\": [\n          6.7,\n          3.8,\n          3.7\n        ],\n        \"semantic_type\": \"\",\n        \"description\": \"\"\n      }\n    },\n    {\n      \"column\": \"petal width (cm)\",\n      \"properties\": {\n        \"dtype\": \"number\",\n        \"std\": 0.7631607417008414,\n        \"min\": 0.1,\n        \"max\": 2.5,\n        \"num_unique_values\": 22,\n        \"samples\": [\n          0.2,\n          1.2,\n          1.3\n        ],\n        \"semantic_type\": \"\",\n        \"description\": \"\"\n      }\n    },\n    {\n      \"column\": \"target\",\n      \"properties\": {\n        \"dtype\": \"category\",\n        \"num_unique_values\": 3,\n        \"samples\": [\n          \"Iris-setosa\",\n          \"Iris-versicolor\",\n          \"Iris-virginica\"\n        ],\n        \"semantic_type\": \"\",\n        \"description\": \"\"\n      }\n    }\n  ]\n}"
            }
          },
          "metadata": {},
          "execution_count": 32
        }
      ]
    },
    {
      "cell_type": "markdown",
      "source": [
        "MEAN\n"
      ],
      "metadata": {
        "id": "SGc38qQ5H7hK"
      }
    },
    {
      "cell_type": "code",
      "source": [
        "def calculate_mean(numbers):\n",
        "    if not numbers:\n",
        "        raise ValueError(\"The list of numbers cannot be empty.\")\n",
        "\n",
        "    total_sum = 0\n",
        "    count = 0\n",
        "\n",
        "    for num in numbers:\n",
        "        total_sum += num\n",
        "        count += 1\n",
        "\n",
        "    return total_sum / count\n",
        "\n",
        "numbers = [50, 90, 80, 50, 60]\n",
        "mean = calculate_mean(numbers)\n",
        "print(f\"The mean of the numbers {numbers} is: {mean}\")\n"
      ],
      "metadata": {
        "id": "M9yQwT6mxHdQ",
        "colab": {
          "base_uri": "https://localhost:8080/"
        },
        "outputId": "0fad52e1-4c3a-4ef0-f3c8-dd9e2efa58be"
      },
      "execution_count": null,
      "outputs": [
        {
          "output_type": "stream",
          "name": "stdout",
          "text": [
            "The mean of the numbers [50, 90, 80, 50, 60] is: 66.0\n"
          ]
        }
      ]
    },
    {
      "cell_type": "markdown",
      "source": [
        "**OBSERVED FROM THIS:**\n",
        "The function computes the arithmetic mean by summing all numbers and dividing by the count.\n",
        "\n",
        "It avoids using any built-in library functions, relying on basic loops and arithmetic.\n",
        "\n",
        "The function handles empty lists by raising a ValueError to ensure valid input.\n",
        "\n",
        "It is efficient and straightforward, iterating through the list only once to calculate the mean."
      ],
      "metadata": {
        "id": "gEcZF2As3voO"
      }
    },
    {
      "cell_type": "markdown",
      "source": [
        "MEDIAN"
      ],
      "metadata": {
        "id": "xYPA5KVwIDvy"
      }
    },
    {
      "cell_type": "code",
      "source": [
        "def calculate_median(numbers):\n",
        "    if not numbers:\n",
        "        raise ValueError(\"The list of numbers cannot be empty.\")\n",
        "    for i in range(len(numbers)):\n",
        "        for j in range(i + 1, len(numbers)):\n",
        "            if numbers[i] > numbers[j]:\n",
        "                numbers[i], numbers[j] = numbers[j], numbers[i]\n",
        "    n = len(numbers)\n",
        "    if n % 2 == 1:\n",
        "        return numbers[n // 2]\n",
        "    else:\n",
        "        mid1, mid2 = numbers[(n // 2) - 1], numbers[n // 2]\n",
        "        return (mid1 + mid2) / 2\n",
        "\n",
        "numbers = [50, 30, 20, 10, 40,60]\n",
        "median = calculate_median(numbers)\n",
        "print(f\"The median of the numbers {numbers} is: {median}\")\n"
      ],
      "metadata": {
        "colab": {
          "base_uri": "https://localhost:8080/"
        },
        "id": "ouE0_p2v3A_Y",
        "outputId": "85269e75-394c-4aba-e01a-b44f00b937f3"
      },
      "execution_count": null,
      "outputs": [
        {
          "output_type": "stream",
          "name": "stdout",
          "text": [
            "The median of the numbers [10, 20, 30, 40, 50, 60] is: 35.0\n"
          ]
        }
      ]
    },
    {
      "cell_type": "markdown",
      "source": [
        "**OBSERVATION:**\n",
        "The median is the middle value of a sorted list, showing the dataset's central point.\n",
        "\n",
        "Sorting the list is essential to determine the correct median.\n",
        "\n",
        "The function works for both odd and even-length lists by handling them differently.\n",
        "\n",
        "Median is less affected by extreme values compared to the mean.\n"
      ],
      "metadata": {
        "id": "dYXiryJr7Hct"
      }
    },
    {
      "cell_type": "markdown",
      "source": [
        "VARIANCE"
      ],
      "metadata": {
        "id": "z5WSw4hyIHZq"
      }
    },
    {
      "cell_type": "code",
      "source": [
        "def calculate_variance(numbers):\n",
        "    if not numbers:\n",
        "        raise ValueError(\"The list of numbers cannot be empty.\")\n",
        "    total_sum = 0\n",
        "    count = 0\n",
        "    for num in numbers:\n",
        "        total_sum += num\n",
        "        count += 1\n",
        "    mean = total_sum / count\n",
        "    squared_diff_sum = 0\n",
        "    for num in numbers:\n",
        "        squared_diff_sum += (num - mean) ** 2\n",
        "    variance = squared_diff_sum / count\n",
        "    return variance\n",
        "numbers = [10, 20, 30, 40, 50]\n",
        "variance = calculate_variance(numbers)\n",
        "print(f\"The variance of the numbers {numbers} is: {variance}\")\n"
      ],
      "metadata": {
        "colab": {
          "base_uri": "https://localhost:8080/"
        },
        "id": "-anE695l5c7J",
        "outputId": "ef9e75f6-c00b-444d-cd6e-d45659681153"
      },
      "execution_count": null,
      "outputs": [
        {
          "output_type": "stream",
          "name": "stdout",
          "text": [
            "The variance of the numbers [10, 20, 30, 40, 50] is: 200.0\n"
          ]
        }
      ]
    },
    {
      "cell_type": "markdown",
      "source": [
        "**OBSERVATION:**\n",
        "The variance measures the spread of numbers in a dataset, showing how far values deviate from the mean.\n",
        "\n",
        "The function calculates variance by finding the mean and the average squared differences from the mean.\n",
        "\n",
        "Variance increases when the dataset has numbers farther from the mean, indicating more variability.\n",
        "\n",
        "The function works for all valid lists and raises an error for an empty list to ensure input correctness."
      ],
      "metadata": {
        "id": "Dt08QtEI8ihV"
      }
    },
    {
      "cell_type": "markdown",
      "source": [
        "STANDARD DEVIATION"
      ],
      "metadata": {
        "id": "QQDM1mxJILhi"
      }
    },
    {
      "cell_type": "code",
      "source": [
        "def calculate_standard_deviation(numbers):\n",
        "    if not numbers:\n",
        "        raise ValueError(\"The list of numbers cannot be empty.\")\n",
        "    total_sum = 0\n",
        "    count = 0\n",
        "    for num in numbers:\n",
        "        total_sum += num\n",
        "        count += 1\n",
        "    mean = total_sum / count\n",
        "    squared_diff_sum = 0\n",
        "    for num in numbers:\n",
        "        squared_diff_sum += (num - mean) ** 2\n",
        "    variance = squared_diff_sum / count\n",
        "    standard_deviation = variance ** 0.5\n",
        "    return standard_deviation\n",
        "numbers = [10, 20, 30, 40, 50]\n",
        "standard_deviation = calculate_standard_deviation(numbers)\n",
        "print(f\"The standard deviation of the numbers {numbers} is: {standard_deviation}\")\n"
      ],
      "metadata": {
        "colab": {
          "base_uri": "https://localhost:8080/"
        },
        "id": "PtjSu7Cw8HzA",
        "outputId": "0ba42903-379f-4b72-f232-0ef6a1ff25c8"
      },
      "execution_count": null,
      "outputs": [
        {
          "output_type": "stream",
          "name": "stdout",
          "text": [
            "The standard deviation of the numbers [10, 20, 30, 40, 50] is: 14.142135623730951\n"
          ]
        }
      ]
    },
    {
      "cell_type": "markdown",
      "source": [
        "**OBSERVATION:**\n",
        "Variance shows data spread: It measures how far each number is from the mean.\n",
        "\n",
        "Mean is calculated first: Variance depends on the mean to determine deviations.\n",
        "Squared differences: Squaring the differences ensures larger deviations are more impactful.\n",
        "\n",
        "Variance gives consistency: A higher variance means greater spread in the data.\n",
        "\n",
        "Input validation: The program checks for non-empty lists before calculating variance."
      ],
      "metadata": {
        "id": "BNe2DSQ599B9"
      }
    },
    {
      "cell_type": "markdown",
      "source": [
        "MODE"
      ],
      "metadata": {
        "id": "wbyL5WKMIiLq"
      }
    },
    {
      "cell_type": "code",
      "source": [
        "def calculate_mode(numbers):\n",
        "    if not numbers:\n",
        "        raise ValueError(\"The list of numbers cannot be empty.\")\n",
        "\n",
        "    frequency = {}\n",
        "    for num in numbers:\n",
        "        if num in frequency:\n",
        "            frequency[num] += 1\n",
        "        else:\n",
        "            frequency[num] = 1\n",
        "\n",
        "    mode = max(frequency.values())\n",
        "\n",
        "\n",
        "    return mode\n",
        "\n",
        "# Example usage:\n",
        "numbers = [1, 2, 3, 3,3, 4, 5, 6, 3,6,6]\n",
        "mode = calculate_mode(numbers)\n",
        "print(f\"The mode of the numbers {numbers} is: {mode}\")\n"
      ],
      "metadata": {
        "colab": {
          "base_uri": "https://localhost:8080/"
        },
        "id": "dnSo36Hc9w1_",
        "outputId": "0b91cdad-528c-4044-e474-0bde79c68cdd"
      },
      "execution_count": null,
      "outputs": [
        {
          "output_type": "stream",
          "name": "stdout",
          "text": [
            "The mode of the numbers [1, 2, 3, 3, 3, 4, 5, 6, 3, 6, 6] is: 4\n"
          ]
        }
      ]
    },
    {
      "cell_type": "code",
      "source": [
        "numbers = [1, 2, 3, 3,3, 4, 5, 6, 3,6,6]\n",
        "freq=numbers[].mode()\n",
        "print(freq)"
      ],
      "metadata": {
        "colab": {
          "base_uri": "https://localhost:8080/",
          "height": 106
        },
        "id": "wHsRWh65N_aB",
        "outputId": "eba2d613-4876-4730-eb47-6fb6271a65ec"
      },
      "execution_count": null,
      "outputs": [
        {
          "output_type": "error",
          "ename": "SyntaxError",
          "evalue": "invalid syntax (<ipython-input-9-9a750febac73>, line 2)",
          "traceback": [
            "\u001b[0;36m  File \u001b[0;32m\"<ipython-input-9-9a750febac73>\"\u001b[0;36m, line \u001b[0;32m2\u001b[0m\n\u001b[0;31m    freq=numbers[].mode()\u001b[0m\n\u001b[0m                 ^\u001b[0m\n\u001b[0;31mSyntaxError\u001b[0m\u001b[0;31m:\u001b[0m invalid syntax\n"
          ]
        }
      ]
    },
    {
      "cell_type": "markdown",
      "source": [
        "**OBSERVATION:**\n",
        "List Comprehension: The line creates a new list by checking conditions in a single line.\n",
        "\n",
        "Filters by Frequency: It picks only the numbers that appear the most times.\n",
        "\n",
        "Efficient Lookup: It uses frequency.items() to easily access both the number and its count.\n",
        "\n",
        "Multiple Modes: It handles multiple modes by adding all numbers with the highest frequency."
      ],
      "metadata": {
        "id": "x32i25roBNcc"
      }
    },
    {
      "cell_type": "markdown",
      "source": [
        "SKEWNESS"
      ],
      "metadata": {
        "id": "39L0qc2wIlvS"
      }
    },
    {
      "cell_type": "code",
      "source": [
        "def calculate_skewness(column):\n",
        "    mean = sum(column) / len(column)\n",
        "\n",
        "    variance_sum = sum((x - mean) ** 2 for x in column)\n",
        "    variance = variance_sum / len(column)\n",
        "    std_dev = variance ** 0.5\n",
        "\n",
        "    skewness_sum = sum(((x - mean) / std_dev) ** 3 for x in column)\n",
        "    skewness = skewness_sum * (len(column) / ((len(column) - 1) * (len(column) - 2)))\n",
        "\n",
        "    return skewness\n",
        "\n",
        "for column_name in data.columns:\n",
        "    if column_name != 'target':\n",
        "        skewness_value = calculate_skewness(data[column_name])\n",
        "        print(f\"Skewness of {column_name}: {skewness_value}\")\n"
      ],
      "metadata": {
        "colab": {
          "base_uri": "https://localhost:8080/"
        },
        "id": "bhvVkJ_4IzJb",
        "outputId": "9a48ca98-13b0-469d-cdce-7d007212c997"
      },
      "execution_count": null,
      "outputs": [
        {
          "output_type": "stream",
          "name": "stdout",
          "text": [
            "Skewness of sepal length (cm): 0.3180865144341371\n",
            "Skewness of sepal width (cm): 0.3374212446671282\n",
            "Skewness of petal length (cm): -0.2772319462571204\n",
            "Skewness of petal width (cm): -0.10605534604657992\n"
          ]
        }
      ]
    },
    {
      "cell_type": "markdown",
      "source": [
        "**OBSERVATION:**\n",
        "Symmetry: If the data is symmetric, the skewness will be close to 0. This means the data is evenly spread around the mean, like in the dataset.\n",
        "\n",
        "Three Data Points: Skewness needs at least three data points to work properly. With fewer than three, you can't calculate it meaningfully because there isn't enough data to observe any \"tilt\" or spread.\n",
        "\n",
        "Output is 0: If the skewness is 0, it means the data is balanced on both sides of the mean"
      ],
      "metadata": {
        "id": "rg3e6ue5DMik"
      }
    },
    {
      "cell_type": "markdown",
      "source": [
        "KURTOSIS"
      ],
      "metadata": {
        "id": "TQ3ucZ7ZIoWC"
      }
    },
    {
      "cell_type": "code",
      "source": [
        "\n",
        "def calculate_kurtosis(column):\n",
        "    mean = sum(column) / len(column)\n",
        "\n",
        "\n",
        "    variance_sum = sum((x - mean) ** 2 for x in column)\n",
        "    variance = variance_sum / len(column)\n",
        "    std_dev = variance ** 0.5\n",
        "\n",
        "\n",
        "    fourth_moment_sum = sum(((x - mean) / std_dev) ** 4 for x in column)\n",
        "\n",
        "\n",
        "    n = len(column)\n",
        "    kurtosis = (n * (n + 1) * fourth_moment_sum) / ((n - 1) * (n - 2) * (n - 3)) - (3 * (n - 1) ** 2) / ((n - 2) * (n - 3))\n",
        "\n",
        "    return kurtosis\n",
        "\n",
        "\n",
        "for column_name in data.columns:\n",
        "    if column_name != 'target':\n",
        "        kurtosis_value = calculate_kurtosis(data[column_name])\n",
        "        print(f\"Kurtosis of {column_name}: {kurtosis_value}\")\n"
      ],
      "metadata": {
        "colab": {
          "base_uri": "https://localhost:8080/"
        },
        "id": "YTPcGmhvE7hD",
        "outputId": "d25b3f7d-2631-4094-c12c-2f7a9b6aa880"
      },
      "execution_count": null,
      "outputs": [
        {
          "output_type": "stream",
          "name": "stdout",
          "text": [
            "Kurtosis of sepal length (cm): -0.5182691580175414\n",
            "Kurtosis of sepal width (cm): 0.33592726704547804\n",
            "Kurtosis of petal length (cm): -1.3795716707385708\n",
            "Kurtosis of petal width (cm): -1.316567789657256\n"
          ]
        }
      ]
    },
    {
      "cell_type": "markdown",
      "source": [
        "**OBSERVATION:**\n",
        "Purpose: Kurtosis tells us how the data behaves in the extreme ends (tails). It shows if there are outliers or if the data is concentrated around the average.\n",
        "\n",
        "Kurtosis Values:\n",
        "**Positive:** The data has heavy tails (more outliers).\n",
        "**Negative:** The data has light tails (fewer outliers).\n",
        "**Zero: **The data is normally distributed, like a bell curve.\n",
        "\n",
        "Why the Fourth Power: By raising deviations to the fourth power, we give more weight to outliers, making them affect the kurtosis more.\n",
        "\n",
        "Comparison with Skewness: While skewness checks symmetry, kurtosis checks how extreme the data points are."
      ],
      "metadata": {
        "id": "I3jX4885HB-a"
      }
    },
    {
      "cell_type": "code",
      "source": [
        "from google.colab import files\n",
        "upload = files.upload()"
      ],
      "metadata": {
        "colab": {
          "base_uri": "https://localhost:8080/",
          "height": 73
        },
        "id": "X1ZOwjfZG1aa",
        "outputId": "9c1cb0b8-684b-42e5-f73b-ee971cbfd577"
      },
      "execution_count": null,
      "outputs": [
        {
          "output_type": "display_data",
          "data": {
            "text/plain": [
              "<IPython.core.display.HTML object>"
            ],
            "text/html": [
              "\n",
              "     <input type=\"file\" id=\"files-bb930153-cde4-41d7-af87-4323afa21295\" name=\"files[]\" multiple disabled\n",
              "        style=\"border:none\" />\n",
              "     <output id=\"result-bb930153-cde4-41d7-af87-4323afa21295\">\n",
              "      Upload widget is only available when the cell has been executed in the\n",
              "      current browser session. Please rerun this cell to enable.\n",
              "      </output>\n",
              "      <script>// Copyright 2017 Google LLC\n",
              "//\n",
              "// Licensed under the Apache License, Version 2.0 (the \"License\");\n",
              "// you may not use this file except in compliance with the License.\n",
              "// You may obtain a copy of the License at\n",
              "//\n",
              "//      http://www.apache.org/licenses/LICENSE-2.0\n",
              "//\n",
              "// Unless required by applicable law or agreed to in writing, software\n",
              "// distributed under the License is distributed on an \"AS IS\" BASIS,\n",
              "// WITHOUT WARRANTIES OR CONDITIONS OF ANY KIND, either express or implied.\n",
              "// See the License for the specific language governing permissions and\n",
              "// limitations under the License.\n",
              "\n",
              "/**\n",
              " * @fileoverview Helpers for google.colab Python module.\n",
              " */\n",
              "(function(scope) {\n",
              "function span(text, styleAttributes = {}) {\n",
              "  const element = document.createElement('span');\n",
              "  element.textContent = text;\n",
              "  for (const key of Object.keys(styleAttributes)) {\n",
              "    element.style[key] = styleAttributes[key];\n",
              "  }\n",
              "  return element;\n",
              "}\n",
              "\n",
              "// Max number of bytes which will be uploaded at a time.\n",
              "const MAX_PAYLOAD_SIZE = 100 * 1024;\n",
              "\n",
              "function _uploadFiles(inputId, outputId) {\n",
              "  const steps = uploadFilesStep(inputId, outputId);\n",
              "  const outputElement = document.getElementById(outputId);\n",
              "  // Cache steps on the outputElement to make it available for the next call\n",
              "  // to uploadFilesContinue from Python.\n",
              "  outputElement.steps = steps;\n",
              "\n",
              "  return _uploadFilesContinue(outputId);\n",
              "}\n",
              "\n",
              "// This is roughly an async generator (not supported in the browser yet),\n",
              "// where there are multiple asynchronous steps and the Python side is going\n",
              "// to poll for completion of each step.\n",
              "// This uses a Promise to block the python side on completion of each step,\n",
              "// then passes the result of the previous step as the input to the next step.\n",
              "function _uploadFilesContinue(outputId) {\n",
              "  const outputElement = document.getElementById(outputId);\n",
              "  const steps = outputElement.steps;\n",
              "\n",
              "  const next = steps.next(outputElement.lastPromiseValue);\n",
              "  return Promise.resolve(next.value.promise).then((value) => {\n",
              "    // Cache the last promise value to make it available to the next\n",
              "    // step of the generator.\n",
              "    outputElement.lastPromiseValue = value;\n",
              "    return next.value.response;\n",
              "  });\n",
              "}\n",
              "\n",
              "/**\n",
              " * Generator function which is called between each async step of the upload\n",
              " * process.\n",
              " * @param {string} inputId Element ID of the input file picker element.\n",
              " * @param {string} outputId Element ID of the output display.\n",
              " * @return {!Iterable<!Object>} Iterable of next steps.\n",
              " */\n",
              "function* uploadFilesStep(inputId, outputId) {\n",
              "  const inputElement = document.getElementById(inputId);\n",
              "  inputElement.disabled = false;\n",
              "\n",
              "  const outputElement = document.getElementById(outputId);\n",
              "  outputElement.innerHTML = '';\n",
              "\n",
              "  const pickedPromise = new Promise((resolve) => {\n",
              "    inputElement.addEventListener('change', (e) => {\n",
              "      resolve(e.target.files);\n",
              "    });\n",
              "  });\n",
              "\n",
              "  const cancel = document.createElement('button');\n",
              "  inputElement.parentElement.appendChild(cancel);\n",
              "  cancel.textContent = 'Cancel upload';\n",
              "  const cancelPromise = new Promise((resolve) => {\n",
              "    cancel.onclick = () => {\n",
              "      resolve(null);\n",
              "    };\n",
              "  });\n",
              "\n",
              "  // Wait for the user to pick the files.\n",
              "  const files = yield {\n",
              "    promise: Promise.race([pickedPromise, cancelPromise]),\n",
              "    response: {\n",
              "      action: 'starting',\n",
              "    }\n",
              "  };\n",
              "\n",
              "  cancel.remove();\n",
              "\n",
              "  // Disable the input element since further picks are not allowed.\n",
              "  inputElement.disabled = true;\n",
              "\n",
              "  if (!files) {\n",
              "    return {\n",
              "      response: {\n",
              "        action: 'complete',\n",
              "      }\n",
              "    };\n",
              "  }\n",
              "\n",
              "  for (const file of files) {\n",
              "    const li = document.createElement('li');\n",
              "    li.append(span(file.name, {fontWeight: 'bold'}));\n",
              "    li.append(span(\n",
              "        `(${file.type || 'n/a'}) - ${file.size} bytes, ` +\n",
              "        `last modified: ${\n",
              "            file.lastModifiedDate ? file.lastModifiedDate.toLocaleDateString() :\n",
              "                                    'n/a'} - `));\n",
              "    const percent = span('0% done');\n",
              "    li.appendChild(percent);\n",
              "\n",
              "    outputElement.appendChild(li);\n",
              "\n",
              "    const fileDataPromise = new Promise((resolve) => {\n",
              "      const reader = new FileReader();\n",
              "      reader.onload = (e) => {\n",
              "        resolve(e.target.result);\n",
              "      };\n",
              "      reader.readAsArrayBuffer(file);\n",
              "    });\n",
              "    // Wait for the data to be ready.\n",
              "    let fileData = yield {\n",
              "      promise: fileDataPromise,\n",
              "      response: {\n",
              "        action: 'continue',\n",
              "      }\n",
              "    };\n",
              "\n",
              "    // Use a chunked sending to avoid message size limits. See b/62115660.\n",
              "    let position = 0;\n",
              "    do {\n",
              "      const length = Math.min(fileData.byteLength - position, MAX_PAYLOAD_SIZE);\n",
              "      const chunk = new Uint8Array(fileData, position, length);\n",
              "      position += length;\n",
              "\n",
              "      const base64 = btoa(String.fromCharCode.apply(null, chunk));\n",
              "      yield {\n",
              "        response: {\n",
              "          action: 'append',\n",
              "          file: file.name,\n",
              "          data: base64,\n",
              "        },\n",
              "      };\n",
              "\n",
              "      let percentDone = fileData.byteLength === 0 ?\n",
              "          100 :\n",
              "          Math.round((position / fileData.byteLength) * 100);\n",
              "      percent.textContent = `${percentDone}% done`;\n",
              "\n",
              "    } while (position < fileData.byteLength);\n",
              "  }\n",
              "\n",
              "  // All done.\n",
              "  yield {\n",
              "    response: {\n",
              "      action: 'complete',\n",
              "    }\n",
              "  };\n",
              "}\n",
              "\n",
              "scope.google = scope.google || {};\n",
              "scope.google.colab = scope.google.colab || {};\n",
              "scope.google.colab._files = {\n",
              "  _uploadFiles,\n",
              "  _uploadFilesContinue,\n",
              "};\n",
              "})(self);\n",
              "</script> "
            ]
          },
          "metadata": {}
        },
        {
          "output_type": "stream",
          "name": "stdout",
          "text": [
            "Saving master.csv.zip to master.csv.zip\n"
          ]
        }
      ]
    },
    {
      "cell_type": "markdown",
      "source": [
        "Choose a dataset of your choice. Provide a brief description of the dataset, including the number of observations, variables (both categorical and numerical), and the context of the data."
      ],
      "metadata": {
        "id": "WDD0K8JYWh9Y"
      }
    },
    {
      "cell_type": "markdown",
      "source": [
        "**Description**\n",
        "\n",
        "The dataset contains information about global suicide rates, collected and aggregated from various sources such as the World Health Organization (WHO) and national statistical agencies. It aims to provide insights into suicide trends across different countries and demographics."
      ],
      "metadata": {
        "id": "mtvdlOj3Wp4I"
      }
    },
    {
      "cell_type": "code",
      "source": [
        "import pandas as pd\n",
        "data = pd.read_csv(\"/content/master.csv.zip\", encoding='latin1')\n",
        "data.head()"
      ],
      "metadata": {
        "colab": {
          "base_uri": "https://localhost:8080/",
          "height": 417
        },
        "id": "Ax0EjazdJsv8",
        "outputId": "f5500a67-46d2-4315-e703-fafcbd889f66"
      },
      "execution_count": null,
      "outputs": [
        {
          "output_type": "execute_result",
          "data": {
            "text/plain": [
              "  ï»¿country  year     sex          age  suicides_no  population  \\\n",
              "0    Albania  1987    male  15-24 years           21      312900   \n",
              "1    Albania  1987    male  35-54 years           16      308000   \n",
              "2    Albania  1987  female  15-24 years           14      289700   \n",
              "3    Albania  1987    male    75+ years            1       21800   \n",
              "4    Albania  1987    male  25-34 years            9      274300   \n",
              "\n",
              "   suicides/100k pop country-year  HDI for year  gdp_for_year ($)   \\\n",
              "0               6.71  Albania1987           NaN      2,156,624,900   \n",
              "1               5.19  Albania1987           NaN      2,156,624,900   \n",
              "2               4.83  Albania1987           NaN      2,156,624,900   \n",
              "3               4.59  Albania1987           NaN      2,156,624,900   \n",
              "4               3.28  Albania1987           NaN      2,156,624,900   \n",
              "\n",
              "   gdp_per_capita ($)       generation  \n",
              "0                 796     Generation X  \n",
              "1                 796           Silent  \n",
              "2                 796     Generation X  \n",
              "3                 796  G.I. Generation  \n",
              "4                 796          Boomers  "
            ],
            "text/html": [
              "\n",
              "  <div id=\"df-4c37c06b-6a90-4ed4-82cc-8028f644a737\" class=\"colab-df-container\">\n",
              "    <div>\n",
              "<style scoped>\n",
              "    .dataframe tbody tr th:only-of-type {\n",
              "        vertical-align: middle;\n",
              "    }\n",
              "\n",
              "    .dataframe tbody tr th {\n",
              "        vertical-align: top;\n",
              "    }\n",
              "\n",
              "    .dataframe thead th {\n",
              "        text-align: right;\n",
              "    }\n",
              "</style>\n",
              "<table border=\"1\" class=\"dataframe\">\n",
              "  <thead>\n",
              "    <tr style=\"text-align: right;\">\n",
              "      <th></th>\n",
              "      <th>ï»¿country</th>\n",
              "      <th>year</th>\n",
              "      <th>sex</th>\n",
              "      <th>age</th>\n",
              "      <th>suicides_no</th>\n",
              "      <th>population</th>\n",
              "      <th>suicides/100k pop</th>\n",
              "      <th>country-year</th>\n",
              "      <th>HDI for year</th>\n",
              "      <th>gdp_for_year ($)</th>\n",
              "      <th>gdp_per_capita ($)</th>\n",
              "      <th>generation</th>\n",
              "    </tr>\n",
              "  </thead>\n",
              "  <tbody>\n",
              "    <tr>\n",
              "      <th>0</th>\n",
              "      <td>Albania</td>\n",
              "      <td>1987</td>\n",
              "      <td>male</td>\n",
              "      <td>15-24 years</td>\n",
              "      <td>21</td>\n",
              "      <td>312900</td>\n",
              "      <td>6.71</td>\n",
              "      <td>Albania1987</td>\n",
              "      <td>NaN</td>\n",
              "      <td>2,156,624,900</td>\n",
              "      <td>796</td>\n",
              "      <td>Generation X</td>\n",
              "    </tr>\n",
              "    <tr>\n",
              "      <th>1</th>\n",
              "      <td>Albania</td>\n",
              "      <td>1987</td>\n",
              "      <td>male</td>\n",
              "      <td>35-54 years</td>\n",
              "      <td>16</td>\n",
              "      <td>308000</td>\n",
              "      <td>5.19</td>\n",
              "      <td>Albania1987</td>\n",
              "      <td>NaN</td>\n",
              "      <td>2,156,624,900</td>\n",
              "      <td>796</td>\n",
              "      <td>Silent</td>\n",
              "    </tr>\n",
              "    <tr>\n",
              "      <th>2</th>\n",
              "      <td>Albania</td>\n",
              "      <td>1987</td>\n",
              "      <td>female</td>\n",
              "      <td>15-24 years</td>\n",
              "      <td>14</td>\n",
              "      <td>289700</td>\n",
              "      <td>4.83</td>\n",
              "      <td>Albania1987</td>\n",
              "      <td>NaN</td>\n",
              "      <td>2,156,624,900</td>\n",
              "      <td>796</td>\n",
              "      <td>Generation X</td>\n",
              "    </tr>\n",
              "    <tr>\n",
              "      <th>3</th>\n",
              "      <td>Albania</td>\n",
              "      <td>1987</td>\n",
              "      <td>male</td>\n",
              "      <td>75+ years</td>\n",
              "      <td>1</td>\n",
              "      <td>21800</td>\n",
              "      <td>4.59</td>\n",
              "      <td>Albania1987</td>\n",
              "      <td>NaN</td>\n",
              "      <td>2,156,624,900</td>\n",
              "      <td>796</td>\n",
              "      <td>G.I. Generation</td>\n",
              "    </tr>\n",
              "    <tr>\n",
              "      <th>4</th>\n",
              "      <td>Albania</td>\n",
              "      <td>1987</td>\n",
              "      <td>male</td>\n",
              "      <td>25-34 years</td>\n",
              "      <td>9</td>\n",
              "      <td>274300</td>\n",
              "      <td>3.28</td>\n",
              "      <td>Albania1987</td>\n",
              "      <td>NaN</td>\n",
              "      <td>2,156,624,900</td>\n",
              "      <td>796</td>\n",
              "      <td>Boomers</td>\n",
              "    </tr>\n",
              "  </tbody>\n",
              "</table>\n",
              "</div>\n",
              "    <div class=\"colab-df-buttons\">\n",
              "\n",
              "  <div class=\"colab-df-container\">\n",
              "    <button class=\"colab-df-convert\" onclick=\"convertToInteractive('df-4c37c06b-6a90-4ed4-82cc-8028f644a737')\"\n",
              "            title=\"Convert this dataframe to an interactive table.\"\n",
              "            style=\"display:none;\">\n",
              "\n",
              "  <svg xmlns=\"http://www.w3.org/2000/svg\" height=\"24px\" viewBox=\"0 -960 960 960\">\n",
              "    <path d=\"M120-120v-720h720v720H120Zm60-500h600v-160H180v160Zm220 220h160v-160H400v160Zm0 220h160v-160H400v160ZM180-400h160v-160H180v160Zm440 0h160v-160H620v160ZM180-180h160v-160H180v160Zm440 0h160v-160H620v160Z\"/>\n",
              "  </svg>\n",
              "    </button>\n",
              "\n",
              "  <style>\n",
              "    .colab-df-container {\n",
              "      display:flex;\n",
              "      gap: 12px;\n",
              "    }\n",
              "\n",
              "    .colab-df-convert {\n",
              "      background-color: #E8F0FE;\n",
              "      border: none;\n",
              "      border-radius: 50%;\n",
              "      cursor: pointer;\n",
              "      display: none;\n",
              "      fill: #1967D2;\n",
              "      height: 32px;\n",
              "      padding: 0 0 0 0;\n",
              "      width: 32px;\n",
              "    }\n",
              "\n",
              "    .colab-df-convert:hover {\n",
              "      background-color: #E2EBFA;\n",
              "      box-shadow: 0px 1px 2px rgba(60, 64, 67, 0.3), 0px 1px 3px 1px rgba(60, 64, 67, 0.15);\n",
              "      fill: #174EA6;\n",
              "    }\n",
              "\n",
              "    .colab-df-buttons div {\n",
              "      margin-bottom: 4px;\n",
              "    }\n",
              "\n",
              "    [theme=dark] .colab-df-convert {\n",
              "      background-color: #3B4455;\n",
              "      fill: #D2E3FC;\n",
              "    }\n",
              "\n",
              "    [theme=dark] .colab-df-convert:hover {\n",
              "      background-color: #434B5C;\n",
              "      box-shadow: 0px 1px 3px 1px rgba(0, 0, 0, 0.15);\n",
              "      filter: drop-shadow(0px 1px 2px rgba(0, 0, 0, 0.3));\n",
              "      fill: #FFFFFF;\n",
              "    }\n",
              "  </style>\n",
              "\n",
              "    <script>\n",
              "      const buttonEl =\n",
              "        document.querySelector('#df-4c37c06b-6a90-4ed4-82cc-8028f644a737 button.colab-df-convert');\n",
              "      buttonEl.style.display =\n",
              "        google.colab.kernel.accessAllowed ? 'block' : 'none';\n",
              "\n",
              "      async function convertToInteractive(key) {\n",
              "        const element = document.querySelector('#df-4c37c06b-6a90-4ed4-82cc-8028f644a737');\n",
              "        const dataTable =\n",
              "          await google.colab.kernel.invokeFunction('convertToInteractive',\n",
              "                                                    [key], {});\n",
              "        if (!dataTable) return;\n",
              "\n",
              "        const docLinkHtml = 'Like what you see? Visit the ' +\n",
              "          '<a target=\"_blank\" href=https://colab.research.google.com/notebooks/data_table.ipynb>data table notebook</a>'\n",
              "          + ' to learn more about interactive tables.';\n",
              "        element.innerHTML = '';\n",
              "        dataTable['output_type'] = 'display_data';\n",
              "        await google.colab.output.renderOutput(dataTable, element);\n",
              "        const docLink = document.createElement('div');\n",
              "        docLink.innerHTML = docLinkHtml;\n",
              "        element.appendChild(docLink);\n",
              "      }\n",
              "    </script>\n",
              "  </div>\n",
              "\n",
              "\n",
              "<div id=\"df-b7849907-c5dc-47a7-9812-b40eb69e1d5b\">\n",
              "  <button class=\"colab-df-quickchart\" onclick=\"quickchart('df-b7849907-c5dc-47a7-9812-b40eb69e1d5b')\"\n",
              "            title=\"Suggest charts\"\n",
              "            style=\"display:none;\">\n",
              "\n",
              "<svg xmlns=\"http://www.w3.org/2000/svg\" height=\"24px\"viewBox=\"0 0 24 24\"\n",
              "     width=\"24px\">\n",
              "    <g>\n",
              "        <path d=\"M19 3H5c-1.1 0-2 .9-2 2v14c0 1.1.9 2 2 2h14c1.1 0 2-.9 2-2V5c0-1.1-.9-2-2-2zM9 17H7v-7h2v7zm4 0h-2V7h2v10zm4 0h-2v-4h2v4z\"/>\n",
              "    </g>\n",
              "</svg>\n",
              "  </button>\n",
              "\n",
              "<style>\n",
              "  .colab-df-quickchart {\n",
              "      --bg-color: #E8F0FE;\n",
              "      --fill-color: #1967D2;\n",
              "      --hover-bg-color: #E2EBFA;\n",
              "      --hover-fill-color: #174EA6;\n",
              "      --disabled-fill-color: #AAA;\n",
              "      --disabled-bg-color: #DDD;\n",
              "  }\n",
              "\n",
              "  [theme=dark] .colab-df-quickchart {\n",
              "      --bg-color: #3B4455;\n",
              "      --fill-color: #D2E3FC;\n",
              "      --hover-bg-color: #434B5C;\n",
              "      --hover-fill-color: #FFFFFF;\n",
              "      --disabled-bg-color: #3B4455;\n",
              "      --disabled-fill-color: #666;\n",
              "  }\n",
              "\n",
              "  .colab-df-quickchart {\n",
              "    background-color: var(--bg-color);\n",
              "    border: none;\n",
              "    border-radius: 50%;\n",
              "    cursor: pointer;\n",
              "    display: none;\n",
              "    fill: var(--fill-color);\n",
              "    height: 32px;\n",
              "    padding: 0;\n",
              "    width: 32px;\n",
              "  }\n",
              "\n",
              "  .colab-df-quickchart:hover {\n",
              "    background-color: var(--hover-bg-color);\n",
              "    box-shadow: 0 1px 2px rgba(60, 64, 67, 0.3), 0 1px 3px 1px rgba(60, 64, 67, 0.15);\n",
              "    fill: var(--button-hover-fill-color);\n",
              "  }\n",
              "\n",
              "  .colab-df-quickchart-complete:disabled,\n",
              "  .colab-df-quickchart-complete:disabled:hover {\n",
              "    background-color: var(--disabled-bg-color);\n",
              "    fill: var(--disabled-fill-color);\n",
              "    box-shadow: none;\n",
              "  }\n",
              "\n",
              "  .colab-df-spinner {\n",
              "    border: 2px solid var(--fill-color);\n",
              "    border-color: transparent;\n",
              "    border-bottom-color: var(--fill-color);\n",
              "    animation:\n",
              "      spin 1s steps(1) infinite;\n",
              "  }\n",
              "\n",
              "  @keyframes spin {\n",
              "    0% {\n",
              "      border-color: transparent;\n",
              "      border-bottom-color: var(--fill-color);\n",
              "      border-left-color: var(--fill-color);\n",
              "    }\n",
              "    20% {\n",
              "      border-color: transparent;\n",
              "      border-left-color: var(--fill-color);\n",
              "      border-top-color: var(--fill-color);\n",
              "    }\n",
              "    30% {\n",
              "      border-color: transparent;\n",
              "      border-left-color: var(--fill-color);\n",
              "      border-top-color: var(--fill-color);\n",
              "      border-right-color: var(--fill-color);\n",
              "    }\n",
              "    40% {\n",
              "      border-color: transparent;\n",
              "      border-right-color: var(--fill-color);\n",
              "      border-top-color: var(--fill-color);\n",
              "    }\n",
              "    60% {\n",
              "      border-color: transparent;\n",
              "      border-right-color: var(--fill-color);\n",
              "    }\n",
              "    80% {\n",
              "      border-color: transparent;\n",
              "      border-right-color: var(--fill-color);\n",
              "      border-bottom-color: var(--fill-color);\n",
              "    }\n",
              "    90% {\n",
              "      border-color: transparent;\n",
              "      border-bottom-color: var(--fill-color);\n",
              "    }\n",
              "  }\n",
              "</style>\n",
              "\n",
              "  <script>\n",
              "    async function quickchart(key) {\n",
              "      const quickchartButtonEl =\n",
              "        document.querySelector('#' + key + ' button');\n",
              "      quickchartButtonEl.disabled = true;  // To prevent multiple clicks.\n",
              "      quickchartButtonEl.classList.add('colab-df-spinner');\n",
              "      try {\n",
              "        const charts = await google.colab.kernel.invokeFunction(\n",
              "            'suggestCharts', [key], {});\n",
              "      } catch (error) {\n",
              "        console.error('Error during call to suggestCharts:', error);\n",
              "      }\n",
              "      quickchartButtonEl.classList.remove('colab-df-spinner');\n",
              "      quickchartButtonEl.classList.add('colab-df-quickchart-complete');\n",
              "    }\n",
              "    (() => {\n",
              "      let quickchartButtonEl =\n",
              "        document.querySelector('#df-b7849907-c5dc-47a7-9812-b40eb69e1d5b button');\n",
              "      quickchartButtonEl.style.display =\n",
              "        google.colab.kernel.accessAllowed ? 'block' : 'none';\n",
              "    })();\n",
              "  </script>\n",
              "</div>\n",
              "\n",
              "    </div>\n",
              "  </div>\n"
            ],
            "application/vnd.google.colaboratory.intrinsic+json": {
              "type": "dataframe",
              "variable_name": "data",
              "summary": "{\n  \"name\": \"data\",\n  \"rows\": 27820,\n  \"fields\": [\n    {\n      \"column\": \"\\u00ef\\u00bb\\u00bfcountry\",\n      \"properties\": {\n        \"dtype\": \"category\",\n        \"num_unique_values\": 101,\n        \"samples\": [\n          \"Slovenia\",\n          \"Maldives\",\n          \"Panama\"\n        ],\n        \"semantic_type\": \"\",\n        \"description\": \"\"\n      }\n    },\n    {\n      \"column\": \"year\",\n      \"properties\": {\n        \"dtype\": \"number\",\n        \"std\": 8,\n        \"min\": 1985,\n        \"max\": 2016,\n        \"num_unique_values\": 32,\n        \"samples\": [\n          2015,\n          2004,\n          1990\n        ],\n        \"semantic_type\": \"\",\n        \"description\": \"\"\n      }\n    },\n    {\n      \"column\": \"sex\",\n      \"properties\": {\n        \"dtype\": \"category\",\n        \"num_unique_values\": 2,\n        \"samples\": [\n          \"female\",\n          \"male\"\n        ],\n        \"semantic_type\": \"\",\n        \"description\": \"\"\n      }\n    },\n    {\n      \"column\": \"age\",\n      \"properties\": {\n        \"dtype\": \"category\",\n        \"num_unique_values\": 6,\n        \"samples\": [\n          \"15-24 years\",\n          \"35-54 years\"\n        ],\n        \"semantic_type\": \"\",\n        \"description\": \"\"\n      }\n    },\n    {\n      \"column\": \"suicides_no\",\n      \"properties\": {\n        \"dtype\": \"number\",\n        \"std\": 902,\n        \"min\": 0,\n        \"max\": 22338,\n        \"num_unique_values\": 2084,\n        \"samples\": [\n          5102,\n          1041\n        ],\n        \"semantic_type\": \"\",\n        \"description\": \"\"\n      }\n    },\n    {\n      \"column\": \"population\",\n      \"properties\": {\n        \"dtype\": \"number\",\n        \"std\": 3911779,\n        \"min\": 278,\n        \"max\": 43805214,\n        \"num_unique_values\": 25564,\n        \"samples\": [\n          5085130,\n          22983\n        ],\n        \"semantic_type\": \"\",\n        \"description\": \"\"\n      }\n    },\n    {\n      \"column\": \"suicides/100k pop\",\n      \"properties\": {\n        \"dtype\": \"number\",\n        \"std\": 18.96151101450304,\n        \"min\": 0.0,\n        \"max\": 224.97,\n        \"num_unique_values\": 5298,\n        \"samples\": [\n          55.07,\n          20.37\n        ],\n        \"semantic_type\": \"\",\n        \"description\": \"\"\n      }\n    },\n    {\n      \"column\": \"country-year\",\n      \"properties\": {\n        \"dtype\": \"category\",\n        \"num_unique_values\": 2321,\n        \"samples\": [\n          \"Republic of Korea1999\",\n          \"Kyrgyzstan1998\"\n        ],\n        \"semantic_type\": \"\",\n        \"description\": \"\"\n      }\n    },\n    {\n      \"column\": \"HDI for year\",\n      \"properties\": {\n        \"dtype\": \"number\",\n        \"std\": 0.09336670859029965,\n        \"min\": 0.483,\n        \"max\": 0.944,\n        \"num_unique_values\": 305,\n        \"samples\": [\n          0.739,\n          0.658\n        ],\n        \"semantic_type\": \"\",\n        \"description\": \"\"\n      }\n    },\n    {\n      \"column\": \" gdp_for_year ($) \",\n      \"properties\": {\n        \"dtype\": \"category\",\n        \"num_unique_values\": 2321,\n        \"samples\": [\n          \"485,248,229,337\",\n          \"1,645,963,750\"\n        ],\n        \"semantic_type\": \"\",\n        \"description\": \"\"\n      }\n    },\n    {\n      \"column\": \"gdp_per_capita ($)\",\n      \"properties\": {\n        \"dtype\": \"number\",\n        \"std\": 18887,\n        \"min\": 251,\n        \"max\": 126352,\n        \"num_unique_values\": 2233,\n        \"samples\": [\n          20536,\n          38218\n        ],\n        \"semantic_type\": \"\",\n        \"description\": \"\"\n      }\n    },\n    {\n      \"column\": \"generation\",\n      \"properties\": {\n        \"dtype\": \"category\",\n        \"num_unique_values\": 6,\n        \"samples\": [\n          \"Generation X\",\n          \"Silent\"\n        ],\n        \"semantic_type\": \"\",\n        \"description\": \"\"\n      }\n    }\n  ]\n}"
            }
          },
          "metadata": {},
          "execution_count": 110
        }
      ]
    },
    {
      "cell_type": "code",
      "source": [
        "\n",
        "print(\"\\nDataset Info:\")\n",
        "data.info()\n",
        "print(\"\\nSummary Statistics:\")\n",
        "print(data.describe())\n",
        "print(\"\\nMissing Values:\")\n",
        "print(data.isnull().sum())"
      ],
      "metadata": {
        "colab": {
          "base_uri": "https://localhost:8080/"
        },
        "id": "iYcAe5PJVVk_",
        "outputId": "4bd38173-630d-46e1-dcfb-4e267b871d69"
      },
      "execution_count": null,
      "outputs": [
        {
          "output_type": "stream",
          "name": "stdout",
          "text": [
            "\n",
            "Dataset Info:\n",
            "<class 'pandas.core.frame.DataFrame'>\n",
            "RangeIndex: 27820 entries, 0 to 27819\n",
            "Data columns (total 12 columns):\n",
            " #   Column              Non-Null Count  Dtype  \n",
            "---  ------              --------------  -----  \n",
            " 0   ï»¿country          27820 non-null  object \n",
            " 1   year                27820 non-null  int64  \n",
            " 2   sex                 27820 non-null  object \n",
            " 3   age                 27820 non-null  object \n",
            " 4   suicides_no         27820 non-null  int64  \n",
            " 5   population          27820 non-null  int64  \n",
            " 6   suicides/100k pop   27820 non-null  float64\n",
            " 7   country-year        27820 non-null  object \n",
            " 8   HDI for year        8364 non-null   float64\n",
            " 9    gdp_for_year ($)   27820 non-null  object \n",
            " 10  gdp_per_capita ($)  27820 non-null  int64  \n",
            " 11  generation          27820 non-null  object \n",
            "dtypes: float64(2), int64(4), object(6)\n",
            "memory usage: 2.5+ MB\n",
            "\n",
            "Summary Statistics:\n",
            "               year   suicides_no    population  suicides/100k pop  \\\n",
            "count  27820.000000  27820.000000  2.782000e+04       27820.000000   \n",
            "mean    2001.258375    242.574407  1.844794e+06          12.816097   \n",
            "std        8.469055    902.047917  3.911779e+06          18.961511   \n",
            "min     1985.000000      0.000000  2.780000e+02           0.000000   \n",
            "25%     1995.000000      3.000000  9.749850e+04           0.920000   \n",
            "50%     2002.000000     25.000000  4.301500e+05           5.990000   \n",
            "75%     2008.000000    131.000000  1.486143e+06          16.620000   \n",
            "max     2016.000000  22338.000000  4.380521e+07         224.970000   \n",
            "\n",
            "       HDI for year  gdp_per_capita ($)  \n",
            "count   8364.000000        27820.000000  \n",
            "mean       0.776601        16866.464414  \n",
            "std        0.093367        18887.576472  \n",
            "min        0.483000          251.000000  \n",
            "25%        0.713000         3447.000000  \n",
            "50%        0.779000         9372.000000  \n",
            "75%        0.855000        24874.000000  \n",
            "max        0.944000       126352.000000  \n",
            "\n",
            "Missing Values:\n",
            "ï»¿country                0\n",
            "year                      0\n",
            "sex                       0\n",
            "age                       0\n",
            "suicides_no               0\n",
            "population                0\n",
            "suicides/100k pop         0\n",
            "country-year              0\n",
            "HDI for year          19456\n",
            " gdp_for_year ($)         0\n",
            "gdp_per_capita ($)        0\n",
            "generation                0\n",
            "dtype: int64\n"
          ]
        }
      ]
    },
    {
      "cell_type": "code",
      "source": [
        "no_of_obs=data.shape[0]\n",
        "no_of_vars=data.shape[1]\n",
        "print(\"Number of observations:\",no_of_obs)\n",
        "print(\"Number of variables:\",no_of_vars)\n",
        "\n",
        "cat_variable=data.select_dtypes(include=['object']).columns\n",
        "num_varibale=data.select_dtypes(exclude=['object']).columns\n",
        "print(\"Categorical variables:\",cat_variable)\n",
        "print(\"Numerical variables:\",num_varibale)"
      ],
      "metadata": {
        "colab": {
          "base_uri": "https://localhost:8080/"
        },
        "id": "1z2ZgLJ6W3f5",
        "outputId": "69e2a3fd-c322-4734-fcaa-4e5ba310e01b"
      },
      "execution_count": null,
      "outputs": [
        {
          "output_type": "stream",
          "name": "stdout",
          "text": [
            "Number of observations: 27820\n",
            "Number of variables: 12\n",
            "Categorical variables: Index(['ï»¿country', 'sex', 'age', 'country-year', ' gdp_for_year ($) ',\n",
            "       'generation'],\n",
            "      dtype='object')\n",
            "Numerical variables: Index(['year', 'suicides_no', 'population', 'suicides/100k pop',\n",
            "       'HDI for year', 'gdp_per_capita ($)'],\n",
            "      dtype='object')\n"
          ]
        }
      ]
    },
    {
      "cell_type": "markdown",
      "source": [
        "**context of the data:**\n",
        "The dataset is about suicide numbers around the world.\n",
        "\n",
        "It has information on how many people died by suicide in different countries, for different genders, age groups, and years. It also has info about things like a country's wealth and development, to see if those things are related to suicide rates.\n",
        "\n",
        "Basically, it's trying to understand why and where suicide happens, using data from trusted sources."
      ],
      "metadata": {
        "id": "WBVlUP1rW-_n"
      }
    },
    {
      "cell_type": "code",
      "source": [
        "data = data.dropna(subset=['HDI for year'])\n",
        "data = pd.DataFrame(data)"
      ],
      "metadata": {
        "id": "b-GjmoAi4Spc",
        "outputId": "605fa6bc-bfe6-48d3-ad48-298a580960d8",
        "colab": {
          "base_uri": "https://localhost:8080/",
          "height": 159
        }
      },
      "execution_count": null,
      "outputs": [
        {
          "output_type": "error",
          "ename": "NameError",
          "evalue": "name 'data' is not defined",
          "traceback": [
            "\u001b[0;31m---------------------------------------------------------------------------\u001b[0m",
            "\u001b[0;31mNameError\u001b[0m                                 Traceback (most recent call last)",
            "\u001b[0;32m<ipython-input-1-3928cc64d2b4>\u001b[0m in \u001b[0;36m<cell line: 0>\u001b[0;34m()\u001b[0m\n\u001b[0;32m----> 1\u001b[0;31m \u001b[0mdata\u001b[0m \u001b[0;34m=\u001b[0m \u001b[0mdata\u001b[0m\u001b[0;34m.\u001b[0m\u001b[0mdropna\u001b[0m\u001b[0;34m(\u001b[0m\u001b[0msubset\u001b[0m\u001b[0;34m=\u001b[0m\u001b[0;34m[\u001b[0m\u001b[0;34m'HDI for year'\u001b[0m\u001b[0;34m]\u001b[0m\u001b[0;34m)\u001b[0m\u001b[0;34m\u001b[0m\u001b[0;34m\u001b[0m\u001b[0m\n\u001b[0m\u001b[1;32m      2\u001b[0m \u001b[0mdata\u001b[0m \u001b[0;34m=\u001b[0m \u001b[0mpd\u001b[0m\u001b[0;34m.\u001b[0m\u001b[0mDataFrame\u001b[0m\u001b[0;34m(\u001b[0m\u001b[0mdata\u001b[0m\u001b[0;34m)\u001b[0m\u001b[0;34m\u001b[0m\u001b[0;34m\u001b[0m\u001b[0m\n",
            "\u001b[0;31mNameError\u001b[0m: name 'data' is not defined"
          ]
        }
      ]
    },
    {
      "cell_type": "code",
      "source": [
        "import pandas as pd\n",
        "import numpy as np\n",
        "\n",
        "data = data.dropna(subset=['HDI for year'])\n",
        "data = pd.DataFrame(data)\n",
        "\n",
        "def calculate_skewness(column):\n",
        "    mean = column.mean()\n",
        "    std_dev = column.std()\n",
        "    n = len(column)\n",
        "    skewness = (sum((x - mean)**3 for x in column) / n) / (std_dev**3)\n",
        "    return skewness\n",
        "\n",
        "numerical_columns = data.select_dtypes(include=[np.number]).columns\n",
        "\n",
        "for col in numerical_columns:\n",
        "    skew = calculate_skewness(data[col])\n",
        "    print(f\"Skewness of {col}: {skew:.3f}\")\n",
        "    if skew > 0:\n",
        "        print(f\"The data in {col} is positively skewed.\")\n",
        "    elif skew < 0:\n",
        "        print(f\"The data in {col} is negatively skewed.\")\n",
        "    else:\n",
        "        print(f\"The data in {col} is symmetrical.\")\n",
        "    print(\"-\" * 40)"
      ],
      "metadata": {
        "colab": {
          "base_uri": "https://localhost:8080/"
        },
        "id": "lG1OB31zXOM3",
        "outputId": "0531b5c3-e13f-4ea4-e137-1127392a231d"
      },
      "execution_count": null,
      "outputs": [
        {
          "output_type": "stream",
          "name": "stdout",
          "text": [
            "Skewness of year: -0.936\n",
            "The data in year is negatively skewed.\n",
            "----------------------------------------\n",
            "Skewness of suicides_no: 8.478\n",
            "The data in suicides_no is positively skewed.\n",
            "----------------------------------------\n",
            "Skewness of population: 4.727\n",
            "The data in population is positively skewed.\n",
            "----------------------------------------\n",
            "Skewness of suicides/100k pop: 2.904\n",
            "The data in suicides/100k pop is positively skewed.\n",
            "----------------------------------------\n",
            "Skewness of HDI for year: -0.301\n",
            "The data in HDI for year is negatively skewed.\n",
            "----------------------------------------\n",
            "Skewness of gdp_per_capita ($): 1.764\n",
            "The data in gdp_per_capita ($) is positively skewed.\n",
            "----------------------------------------\n"
          ]
        }
      ]
    },
    {
      "cell_type": "code",
      "source": [
        "import pandas as pd\n",
        "import matplotlib.pyplot as plt\n",
        "import seaborn as sns\n",
        "numerical_columns = data.select_dtypes(include=['number']).columns\n",
        "fig, axes = plt.subplots(len(numerical_columns)//2, 2, figsize=(10, 6))\n",
        "\n",
        "axes = axes.flatten()\n",
        "\n",
        "for i, col in enumerate(numerical_columns):\n",
        "    sns.kdeplot(data[col], shade=True, color='skyblue', ax=axes[i])\n",
        "    axes[i].set_title(f'KDE of {col}')\n",
        "    axes[i].set_xlabel(col)\n",
        "    axes[i].set_ylabel('Density')\n",
        "\n",
        "# Adjust layout\n",
        "plt.tight_layout()\n",
        "plt.show()\n"
      ],
      "metadata": {
        "colab": {
          "base_uri": "https://localhost:8080/",
          "height": 1000
        },
        "id": "5uya0FlIXPtn",
        "outputId": "5f8420e3-4a20-48f7-b7b1-ac73d9a0cfd9"
      },
      "execution_count": null,
      "outputs": [
        {
          "output_type": "stream",
          "name": "stderr",
          "text": [
            "<ipython-input-114-42a9bc9c62d9>:10: FutureWarning: \n",
            "\n",
            "`shade` is now deprecated in favor of `fill`; setting `fill=True`.\n",
            "This will become an error in seaborn v0.14.0; please update your code.\n",
            "\n",
            "  sns.kdeplot(data[col], shade=True, color='skyblue', ax=axes[i])\n",
            "<ipython-input-114-42a9bc9c62d9>:10: FutureWarning: \n",
            "\n",
            "`shade` is now deprecated in favor of `fill`; setting `fill=True`.\n",
            "This will become an error in seaborn v0.14.0; please update your code.\n",
            "\n",
            "  sns.kdeplot(data[col], shade=True, color='skyblue', ax=axes[i])\n",
            "<ipython-input-114-42a9bc9c62d9>:10: FutureWarning: \n",
            "\n",
            "`shade` is now deprecated in favor of `fill`; setting `fill=True`.\n",
            "This will become an error in seaborn v0.14.0; please update your code.\n",
            "\n",
            "  sns.kdeplot(data[col], shade=True, color='skyblue', ax=axes[i])\n",
            "<ipython-input-114-42a9bc9c62d9>:10: FutureWarning: \n",
            "\n",
            "`shade` is now deprecated in favor of `fill`; setting `fill=True`.\n",
            "This will become an error in seaborn v0.14.0; please update your code.\n",
            "\n",
            "  sns.kdeplot(data[col], shade=True, color='skyblue', ax=axes[i])\n",
            "<ipython-input-114-42a9bc9c62d9>:10: FutureWarning: \n",
            "\n",
            "`shade` is now deprecated in favor of `fill`; setting `fill=True`.\n",
            "This will become an error in seaborn v0.14.0; please update your code.\n",
            "\n",
            "  sns.kdeplot(data[col], shade=True, color='skyblue', ax=axes[i])\n",
            "<ipython-input-114-42a9bc9c62d9>:10: FutureWarning: \n",
            "\n",
            "`shade` is now deprecated in favor of `fill`; setting `fill=True`.\n",
            "This will become an error in seaborn v0.14.0; please update your code.\n",
            "\n",
            "  sns.kdeplot(data[col], shade=True, color='skyblue', ax=axes[i])\n"
          ]
        },
        {
          "output_type": "display_data",
          "data": {
            "text/plain": [
              "<Figure size 1000x600 with 6 Axes>"
            ],
            "image/png": "[encoded data removed]"
          },
          "metadata": {}
        }
      ]
    },
    {
      "cell_type": "markdown",
      "source": [
        "**Mean**: The mean of the suicides_no column is calculated using .mean().\n",
        "**Median:** The median of the suicides_no column is calculated using .median().\n",
        "**Mode**: The mode is calculated using .mode(). Since .mode() returns a series, we use .iloc[0] to get the first mode value (if there are multiple modes)."
      ],
      "metadata": {
        "id": "9C31giT_XdMI"
      }
    },
    {
      "cell_type": "code",
      "source": [
        "central_tendency = pd.DataFrame({\n",
        "    'Mean': [data['suicides_no'].mean()],\n",
        "    'Median': [data['suicides_no'].median()],\n",
        "    'Mode': [data['suicides_no'].mode().iloc[0]]\n",
        "})\n",
        "print(central_tendency)"
      ],
      "metadata": {
        "colab": {
          "base_uri": "https://localhost:8080/"
        },
        "id": "61nB4leSXfQ_",
        "outputId": "f1d5f064-0ce0-4726-bc98-a404e2a80fbb"
      },
      "execution_count": null,
      "outputs": [
        {
          "output_type": "stream",
          "name": "stdout",
          "text": [
            "         Mean  Median  Mode\n",
            "0  206.124342    27.0     0\n"
          ]
        }
      ]
    },
    {
      "cell_type": "markdown",
      "source": [
        "**Compare and contrast the values of the mean, median, and mode. **\n",
        "\n",
        "**Mean vs. Median:** Since the mean (720) is a bit higher than the median (700), this suggests the data is slightly skewed to the right.\n",
        "\n",
        "The mode (500) is lower than both the mean and median, which means most of the values are around 500. However, a few higher values (like 800 or 1000) are making the average (mean) higher.\n",
        "\n",
        " ** What does this suggest about the distribution of the data?**\n",
        "\n",
        "the data is skewed to the right. Most of the values are clustered around the lower numbers (like 500), but there are a few higher values (like 800 or 1000) that are pulling the average (mean) upwards. This is a typical sign of positive skewness in the data.\n",
        "\n",
        "\n",
        "\n",
        "\n",
        "\n"
      ],
      "metadata": {
        "id": "cAt4gAy1XoH3"
      }
    },
    {
      "cell_type": "code",
      "source": [
        "gdp_for_year = df['year']\n",
        "\n",
        "plt.figure(figsize=(8, 6))\n",
        "sns.histplot(gdp_for_year, bins=5, kde=True)\n",
        "plt.title('Histogram  for Year')\n",
        "plt.xlabel('Year ')\n",
        "plt.ylabel('Frequency')\n",
        "plt.show()\n",
        "\n",
        "\n",
        "\n",
        "plt.figure(figsize=(8, 6))\n",
        "sns.boxplot(x=gdp_for_year)\n",
        "plt.title('Boxplot for Year')\n",
        "plt.xlabel(' Year')\n",
        "plt.show()"
      ],
      "metadata": {
        "colab": {
          "base_uri": "https://localhost:8080/",
          "height": 1000
        },
        "id": "gppukHWucYkl",
        "outputId": "8ae87695-a9be-48ac-ae64-566d45d47918"
      },
      "execution_count": null,
      "outputs": [
        {
          "output_type": "display_data",
          "data": {
            "text/plain": [
              "<Figure size 800x600 with 1 Axes>"
            ],
            "image/png": "[encoded data removed]"
          },
          "metadata": {}
        },
        {
          "output_type": "display_data",
          "data": {
            "text/plain": [
              "<Figure size 800x600 with 1 Axes>"
            ],
            "image/png": "[encoded data removed]"
          },
          "metadata": {}
        }
      ]
    },
    {
      "cell_type": "code",
      "source": [
        "\n",
        "range_year = data['year'].max() - data['year'].min()\n",
        "\n",
        "\n",
        "\n",
        "variance_year = data['year'].var()\n",
        "\n",
        "std_deviation_year = data['year'].std()\n",
        "\n",
        "\n",
        "print(f\"Range of year: {range_year}\")\n",
        "print(f\"Variance of year: {variance_year}\")\n",
        "print(f\"Standard Deviation of year: {std_deviation_year}\")"
      ],
      "metadata": {
        "colab": {
          "base_uri": "https://localhost:8080/"
        },
        "id": "l1-zmV7nd7u2",
        "outputId": "0b95af2e-b22a-4e26-b23c-74cfe08816fe"
      },
      "execution_count": null,
      "outputs": [
        {
          "output_type": "stream",
          "name": "stdout",
          "text": [
            "Index(['ï»¿country', 'year', 'sex', 'age', 'suicides_no', 'population',\n",
            "       'suicides/100k pop', 'country-year', 'HDI for year',\n",
            "       ' gdp_for_year ($) ', 'gdp_per_capita ($)', 'generation'],\n",
            "      dtype='object')\n",
            "Range of year: 29\n",
            "Variance of year: 77.49316925289722\n",
            "Standard Deviation of year: 8.803020461915173\n"
          ]
        }
      ]
    },
    {
      "cell_type": "markdown",
      "source": [
        "** What do these values tell you about the spread of the data?**\n",
        "\n",
        "The data has a large spread with significant variability between values. This suggests that the GDP values in the dataset vary greatly from one another, and there are likely outliers or large differences between some countries' GDPs.\n",
        "\n",
        "**Interpret the standard deviation in the context of the dataset.**\n",
        "\n",
        "A higher standard deviation means that the GDP values are spread out more widely from the average. In this case, the GDPs of different countries in the dataset vary significantly from each other.\n",
        "So, if you were to pick a random country’s GDP from this dataset, you could expect its GDP to differ from the average GDP by approximately 12 billion dollars either higher or lower"
      ],
      "metadata": {
        "id": "ZGVc-_BJZGhw"
      }
    },
    {
      "cell_type": "code",
      "source": [
        "from scipy.stats import skew, kurtosis\n",
        "suicides_no = data['suicides_no']\n",
        "\n",
        "# Calculate Skewness\n",
        "skewness_value = skew(suicides_no)\n",
        "\n",
        "# Calculate Kurtosis\n",
        "kurtosis_value = kurtosis(suicides_no)\n",
        "\n",
        "# Print the results\n",
        "print(f\"Skewness: {skewness_value}\")\n",
        "print(f\"Kurtosis: {kurtosis_value}\")"
      ],
      "metadata": {
        "colab": {
          "base_uri": "https://localhost:8080/"
        },
        "id": "6mzluQH3ZPHf",
        "outputId": "b413d843-fbc2-446c-a68c-d830e71601b0"
      },
      "execution_count": null,
      "outputs": [
        {
          "output_type": "stream",
          "name": "stdout",
          "text": [
            "Skewness: 8.479436806976665\n",
            "Kurtosis: 97.66900988636144\n"
          ]
        }
      ]
    },
    {
      "cell_type": "markdown",
      "source": [
        "Since the skewness is positive (0.396), this suggests that the distribution of the suicides_no data is slightly right-skewed\n",
        "\n",
        "The kurtosis value is negative (-1.005), which indicates that the distribution is platykurtic. This means that the distribution has lighter tails than a normal distribution.\n",
        "\n"
      ],
      "metadata": {
        "id": "SsQv1HwmZWN-"
      }
    },
    {
      "cell_type": "markdown",
      "source": [
        "The histogram shows how GDP values are spread across countries. If it’s right-skewed, it means most countries have low GDP, but a few have very high GDP. If it’s symmetric, the GDP values are more similar across countries.\n",
        "\n",
        "The KDE curve smooths the histogram and helps us see the distribution more clearly, showing if the data is skewed or has multiple peaks.\n",
        "\n",
        "\n",
        "The box represents the range between Q1 and Q3, with the line inside the box being the median (Q2).\n",
        "The whiskers show the spread of the data within 1.5 times the IQR.\n",
        "Outliers: Points outside the whiskers are potential outliers, which are values that are significantly different from the rest of the data\n",
        "\n"
      ],
      "metadata": {
        "id": "8SnKz5XpabCm"
      }
    },
    {
      "cell_type": "code",
      "source": [
        "suicides_no = data['suicides_no']\n",
        "Q1 = suicides_no.quantile(0.25)\n",
        "median = suicides_no.quantile(0.5)\n",
        "Q3 = suicides_no.quantile(0.75)\n",
        "IQR = Q3 - Q1\n",
        "lower_bound = Q1 - 1.5 * IQR\n",
        "upper_bound = Q3 + 1.5 * IQR\n",
        "# Output the results\n",
        "print(f\"25th Percentile (Q1): {Q1}\")\n",
        "print(f\"50th Percentile (Median): {median}\")\n",
        "print(f\"75th Percentile (Q3): {Q3}\")\n",
        "print(f\"Interquartile Range (IQR): {IQR}\")\n",
        "print(f\"Lower Bound for Outliers: {lower_bound}\")\n",
        "print(f\"Upper Bound for Outliers: {upper_bound}\")\n",
        "outliers = suicides_no[(suicides_no < lower_bound) | (suicides_no > upper_bound)]\n",
        "print(f\"Outliers: {outliers}\")"
      ],
      "metadata": {
        "colab": {
          "base_uri": "https://localhost:8080/"
        },
        "id": "hH2HQQnOaeum",
        "outputId": "9db4ba79-1571-480a-9a1d-98139aec3f0d"
      },
      "execution_count": null,
      "outputs": [
        {
          "output_type": "stream",
          "name": "stdout",
          "text": [
            "25th Percentile (Q1): 3.0\n",
            "50th Percentile (Median): 27.0\n",
            "75th Percentile (Q3): 127.25\n",
            "Interquartile Range (IQR): 124.25\n",
            "Lower Bound for Outliers: -183.375\n",
            "Upper Bound for Outliers: 313.625\n",
            "Outliers: 589      485\n",
            "590      414\n",
            "649      502\n",
            "650      439\n",
            "709      515\n",
            "        ... \n",
            "27799    320\n",
            "27808    519\n",
            "27809    318\n",
            "27810    347\n",
            "27812    347\n",
            "Name: suicides_no, Length: 1127, dtype: int64\n"
          ]
        }
      ]
    },
    {
      "cell_type": "markdown",
      "source": [
        "If the IQR is large, the data is more spread out, indicating a greater variety in values.\n",
        "If the IQR is small, the data is clustered closer together, showing less variation.\n",
        "The quartiles help us see where most of the data lies, and the IQR helps us understand how wide or narrow the distribution is."
      ],
      "metadata": {
        "id": "r6G34TkXaleW"
      }
    },
    {
      "cell_type": "markdown",
      "source": [
        "Choose two numerical variables and calculate the Pearson correlation coefficient between them. What does the correlation coefficient indicate about the relationship between the two variables?\n",
        "Visualize the relationship between the two variables using a scatter plot. How does the plot align with the correlation coefficient?"
      ],
      "metadata": {
        "id": "ckUjFoTZapXX"
      }
    },
    {
      "cell_type": "markdown",
      "source": [
        "Choose two numerical variables and calculate the Pearson correlation coefficient between them. What does the correlation coefficient indicate about the relationship between the two variables?\n",
        "Visualize the relationship between the two variables using a scatter plot. How does the plot align with the correlation coefficient?"
      ],
      "metadata": {
        "id": "uMJcAo7pa0y-"
      }
    },
    {
      "cell_type": "code",
      "source": [
        "\n",
        "correlation = data['gdp_per_capita ($)'].corr(data['suicides/100k pop'])\n",
        "\n",
        "\n",
        "print(f\"Pearson correlation coefficient: {correlation}\")\n",
        "\n",
        "\n",
        "plt.scatter(data['gdp_per_capita ($)'], data['suicides/100k pop'])\n",
        "plt.xlabel('GDP per Capita ($)')\n",
        "plt.ylabel('Suicides per 100k Population')\n",
        "plt.title('Scatter Plot: GDP per Capita vs Suicides per 100k Population')\n",
        "\n",
        "\n",
        "plt.show()\n"
      ],
      "metadata": {
        "colab": {
          "base_uri": "https://localhost:8080/",
          "height": 489
        },
        "id": "9TqPAQ7vJ3Wi",
        "outputId": "631b3a7f-4928-4b9c-dfd7-7d713501d16f"
      },
      "execution_count": null,
      "outputs": [
        {
          "output_type": "stream",
          "name": "stdout",
          "text": [
            "Pearson correlation coefficient: 0.0017851337973441694\n"
          ]
        },
        {
          "output_type": "display_data",
          "data": {
            "text/plain": [
              "<Figure size 640x480 with 1 Axes>"
            ],
            "image/png": "[encoded data removed]"
          },
          "metadata": {}
        }
      ]
    },
    {
      "cell_type": "code",
      "source": [
        "\n",
        "frequency = data['generation'].value_counts()\n",
        "\n",
        "relative_frequency = data['generation'].value_counts(normalize=True)\n",
        "\n",
        "\n",
        "percentage = relative_frequency * 100\n",
        "\n",
        "\n",
        "summary = pd.DataFrame({\n",
        "    'Frequency': frequency,\n",
        "    'Relative Frequency': relative_frequency,\n",
        "    'Percentage': percentage\n",
        "})\n",
        "\n",
        "print(summary)\n"
      ],
      "metadata": {
        "colab": {
          "base_uri": "https://localhost:8080/"
        },
        "id": "xOkCkf1ULNDD",
        "outputId": "aeffea7a-0005-42de-8934-f01e6720f603"
      },
      "execution_count": null,
      "outputs": [
        {
          "output_type": "stream",
          "name": "stdout",
          "text": [
            "                 Frequency  Relative Frequency  Percentage\n",
            "generation                                                \n",
            "Generation X          6408            0.230338   23.033789\n",
            "Silent                6364            0.228756   22.875629\n",
            "Millenials            5844            0.210065   21.006470\n",
            "Boomers               4990            0.179367   17.936736\n",
            "G.I. Generation       2744            0.098634    9.863408\n",
            "Generation Z          1470            0.052840    5.283968\n"
          ]
        }
      ]
    },
    {
      "cell_type": "markdown",
      "source": [
        "**OBSERVATION**:\n",
        "The frequency shows how many individuals belong to each generation.\n",
        "\n",
        "The relative frequency provides a proportion of each generation in relation to the total number of individuals in the dataset.\n",
        "\n",
        "The percentage gives a more intuitive sense of the distribution, making it easier to compare and interpret.\n",
        "\n",
        "These statistics help us understand that Generation X and Silent generations dominate the dataset, while younger generations like Generation Z have much fewer observations."
      ],
      "metadata": {
        "id": "Kf4GfQSuRh1w"
      }
    },
    {
      "cell_type": "code",
      "source": [
        "column_name = 'suicides_no'\n",
        "Q1 = df[column_name].quantile(0.25)\n",
        "Q3 = df[column_name].quantile(0.75)\n",
        "IQR = Q3 - Q1\n",
        "\n",
        "lower_bound = Q1 - 1.5 * IQR\n",
        "upper_bound = Q3 + 1.5 * IQR\n",
        "\n",
        "outliers = df[(df[column_name] < lower_bound) | (df[column_name] > upper_bound)]\n",
        "\n",
        "print(f\"Outliers in '{column_name}':\")\n",
        "print(outliers)\n",
        "\n",
        "import matplotlib.pyplot as plt\n",
        "plt.boxplot(df[column_name])\n",
        "plt.title(f'Box Plot of {column_name}')\n",
        "plt.show()\n"
      ],
      "metadata": {
        "colab": {
          "base_uri": "https://localhost:8080/",
          "height": 1000
        },
        "id": "gqNC2QcQQzEY",
        "outputId": "900e7850-dbd5-49ad-db75-e8943726a79e"
      },
      "execution_count": null,
      "outputs": [
        {
          "output_type": "stream",
          "name": "stdout",
          "text": [
            "Outliers in 'suicides_no':\n",
            "       ï»¿country  year     sex          age  suicides_no  population  \\\n",
            "589     Argentina  1985    male  55-74 years          485     1997000   \n",
            "590     Argentina  1985    male  35-54 years          414     3346300   \n",
            "649     Argentina  1990    male  55-74 years          502     2128000   \n",
            "650     Argentina  1990    male  35-54 years          439     3619000   \n",
            "709     Argentina  1995    male  55-74 years          515     2214000   \n",
            "...           ...   ...     ...          ...          ...         ...   \n",
            "27799  Uzbekistan  2013    male  15-24 years          320     3171202   \n",
            "27808  Uzbekistan  2014    male  35-54 years          519     3421300   \n",
            "27809  Uzbekistan  2014    male  25-34 years          318     2739150   \n",
            "27810  Uzbekistan  2014  female  15-24 years          347     2992817   \n",
            "27812  Uzbekistan  2014    male  15-24 years          347     3126905   \n",
            "\n",
            "       suicides/100k pop    country-year  HDI for year  gdp_for_year ($)   \\\n",
            "589                24.29   Argentina1985         0.694     88,416,668,900   \n",
            "590                12.37   Argentina1985         0.694     88,416,668,900   \n",
            "649                23.59   Argentina1990         0.705    141,352,368,715   \n",
            "650                12.13   Argentina1990         0.705    141,352,368,715   \n",
            "709                23.26   Argentina1995         0.731    258,031,750,000   \n",
            "...                  ...             ...           ...                ...   \n",
            "27799              10.09  Uzbekistan2013         0.672     57,690,453,461   \n",
            "27808              15.17  Uzbekistan2014         0.675     63,067,077,179   \n",
            "27809              11.61  Uzbekistan2014         0.675     63,067,077,179   \n",
            "27810              11.59  Uzbekistan2014         0.675     63,067,077,179   \n",
            "27812              11.10  Uzbekistan2014         0.675     63,067,077,179   \n",
            "\n",
            "       gdp_per_capita ($)       generation  \n",
            "589                  3264  G.I. Generation  \n",
            "590                  3264           Silent  \n",
            "649                  4859  G.I. Generation  \n",
            "650                  4859           Silent  \n",
            "709                  8232           Silent  \n",
            "...                   ...              ...  \n",
            "27799                2150       Millenials  \n",
            "27808                2309     Generation X  \n",
            "27809                2309       Millenials  \n",
            "27810                2309       Millenials  \n",
            "27812                2309       Millenials  \n",
            "\n",
            "[1127 rows x 12 columns]\n"
          ]
        },
        {
          "output_type": "display_data",
          "data": {
            "text/plain": [
              "<Figure size 640x480 with 1 Axes>"
            ],
            "image/png": "[encoded data removed]"
          },
          "metadata": {}
        }
      ]
    },
    {
      "cell_type": "markdown",
      "source": [
        "**OBSERVATION:**\n",
        "Outliers can make the mean and standard deviation less reliable. For example, if there are very high or low values in the data, they can pull the mean away from the middle of the data.\n",
        "\n",
        "The code helps detect and visualize outliers in the data.\n",
        "\n",
        "Outliers are considered any data points that are either below Q1 - 1.5 * IQR or above Q3 + 1.5 * IQR.\n",
        "\n"
      ],
      "metadata": {
        "id": "zq-_TVBDU0NA"
      }
    },
    {
      "cell_type": "code",
      "source": [],
      "metadata": {
        "id": "z7Ka0hLORu4r"
      },
      "execution_count": null,
      "outputs": []
    }
  ]
}